{
 "cells": [
  {
   "cell_type": "markdown",
   "id": "2fe13028",
   "metadata": {},
   "source": [
    "# Classification Predict Student Solution\n",
    "\n",
    "© Explore Data Science Academy\n",
    "\n",
    "---\n",
    "### Honour Code\n",
    "\n",
    "We, **Team 6**, confirm - by submitting this document - that the solutions in this notebook are a result of my own work and that I abide by the [EDSA honour code](https://drive.google.com/file/d/1QDCjGZJ8-FmJE3bZdIQNwnJyQKPhHZBn/view?usp=sharing).\n",
    "\n",
    "Non-compliance with the honour code constitutes a material breach of contract.\n",
    "\n",
    "### Predict Overview: EDSA - Climate Change Belief Analysis 2022\n",
    "\n",
    "Many companies are built around lessening one’s environmental impact or carbon footprint. They offer products and services that are environmentally friendly and sustainable, in line with their values and ideals. They would like to determine how people perceive climate change and whether or not they believe it is a real threat. This would add to their market research efforts in gauging how their product/service may be received.\n",
    "\n",
    "With this context, you are challenged to create a Machine Learning model that is able to classify whether or not a person believes in climate change, based on their novel tweet data.\n",
    "\n",
    "Providing an accurate and robust solution to this task gives companies access to a broad base of consumer sentiment, spanning multiple demographic and geographic categories - thus increasing their insights and informing future marketing strategies.\n"
   ]
  },
  {
   "cell_type": "markdown",
   "id": "e6d58e3e",
   "metadata": {},
   "source": [
    "<a id=\"cont\"></a>\n",
    "\n",
    "## Table of Contents\n",
    "\n",
    "<a href=#one>1. Importing Packages</a>\n",
    "\n",
    "<a href=#two>2. Loading Data</a>\n",
    "\n",
    "<a href=#three>3. Exploratory Data Analysis (EDA)</a>\n",
    "\n",
    "<a href=#four>4. Data Engineering</a>\n",
    "\n",
    "<a href=#five>5. Modeling</a>\n",
    "\n",
    "<a href=#six>6. Model Performance</a>\n",
    "\n",
    "<a href=#seven>7. Model Explanations</a>"
   ]
  },
  {
   "cell_type": "markdown",
   "id": "5d218596",
   "metadata": {},
   "source": [
    " <a id=\"one\"></a>\n",
    "## 1. Importing Packages\n",
    "<a href=#cont>Back to Table of Contents</a>\n",
    "\n",
    "---\n",
    "    \n",
    "| ⚡ Description: Importing Packages ⚡ |\n",
    "| :--------------------------- |\n",
    "| In this section you are required to import, and briefly discuss, the libraries that will be used throughout your analysis and modelling. |\n",
    "\n",
    "---"
   ]
  },
  {
   "cell_type": "code",
   "execution_count": 442,
   "id": "12acca96",
   "metadata": {},
   "outputs": [],
   "source": [
    "import numpy as np\n",
    "import pandas as pd\n",
    "from sklearn.model_selection import train_test_split, GridSearchCV\n",
    "from sklearn.linear_model import LogisticRegression\n",
    "from sklearn.ensemble import AdaBoostClassifier\n",
    "from sklearn.ensemble import RandomForestClassifier\n",
    "from sklearn.naive_bayes import GaussianNB\n",
    "from sklearn.naive_bayes import MultinomialNB\n",
    "from sklearn.tree import DecisionTreeClassifier\n",
    "from sklearn.neighbors import KNeighborsClassifier\n",
    "from sklearn.preprocessing import StandardScaler\n",
    "from sklearn.metrics import f1_score, precision_score, recall_score, confusion_matrix\\\n",
    "\n",
    "import matplotlib.pyplot as plt\n",
    "import string\n",
    "from nltk.tokenize import word_tokenize, TreebankWordTokenizer\n",
    "from nltk import SnowballStemmer, PorterStemmer, LancasterStemmer\n",
    "from nltk.stem import WordNetLemmatizer\n",
    "from nltk.corpus import stopwords\n",
    "from nltk.util import ngrams\n",
    "from sklearn.feature_extraction.text import CountVectorizer"
   ]
  },
  {
   "cell_type": "markdown",
   "id": "9b5732e8",
   "metadata": {},
   "source": [
    "---\n",
    "## Discussion of libraries that will be used\n",
    "\n",
    "---"
   ]
  },
  {
   "cell_type": "markdown",
   "id": "28da35db",
   "metadata": {},
   "source": [
    "<a id=\"two\"></a>\n",
    "## 2. Loading the Data\n",
    "<a class=\"anchor\" id=\"1.1\"></a>\n",
    "<a href=#cont>Back to Table of Contents</a>\n",
    "\n",
    "---\n",
    "    \n",
    "| ⚡ Description: Loading the data ⚡ |\n",
    "| :--------------------------- |\n",
    "| In this section you are required to load the data from the `train.csv` file into a DataFrame. |\n",
    "\n",
    "---"
   ]
  },
  {
   "cell_type": "code",
   "execution_count": 369,
   "id": "c8a92735",
   "metadata": {},
   "outputs": [
    {
     "data": {
      "text/html": [
       "<div>\n",
       "<style scoped>\n",
       "    .dataframe tbody tr th:only-of-type {\n",
       "        vertical-align: middle;\n",
       "    }\n",
       "\n",
       "    .dataframe tbody tr th {\n",
       "        vertical-align: top;\n",
       "    }\n",
       "\n",
       "    .dataframe thead th {\n",
       "        text-align: right;\n",
       "    }\n",
       "</style>\n",
       "<table border=\"1\" class=\"dataframe\">\n",
       "  <thead>\n",
       "    <tr style=\"text-align: right;\">\n",
       "      <th></th>\n",
       "      <th>message</th>\n",
       "      <th>tweetid</th>\n",
       "    </tr>\n",
       "  </thead>\n",
       "  <tbody>\n",
       "    <tr>\n",
       "      <th>0</th>\n",
       "      <td>Europe will now be looking to China to make su...</td>\n",
       "      <td>169760</td>\n",
       "    </tr>\n",
       "    <tr>\n",
       "      <th>1</th>\n",
       "      <td>Combine this with the polling of staffers re c...</td>\n",
       "      <td>35326</td>\n",
       "    </tr>\n",
       "    <tr>\n",
       "      <th>2</th>\n",
       "      <td>The scary, unimpeachable evidence that climate...</td>\n",
       "      <td>224985</td>\n",
       "    </tr>\n",
       "    <tr>\n",
       "      <th>3</th>\n",
       "      <td>@Karoli @morgfair @OsborneInk @dailykos \\nPuti...</td>\n",
       "      <td>476263</td>\n",
       "    </tr>\n",
       "    <tr>\n",
       "      <th>4</th>\n",
       "      <td>RT @FakeWillMoore: 'Female orgasms cause globa...</td>\n",
       "      <td>872928</td>\n",
       "    </tr>\n",
       "  </tbody>\n",
       "</table>\n",
       "</div>"
      ],
      "text/plain": [
       "                                             message  tweetid\n",
       "0  Europe will now be looking to China to make su...   169760\n",
       "1  Combine this with the polling of staffers re c...    35326\n",
       "2  The scary, unimpeachable evidence that climate...   224985\n",
       "3  @Karoli @morgfair @OsborneInk @dailykos \\nPuti...   476263\n",
       "4  RT @FakeWillMoore: 'Female orgasms cause globa...   872928"
      ]
     },
     "execution_count": 369,
     "metadata": {},
     "output_type": "execute_result"
    }
   ],
   "source": [
    "df = pd.read_csv(\"train.csv\")\n",
    "df_test = pd.read_csv(\"test.csv\")\n",
    "df_test.head()"
   ]
  },
  {
   "cell_type": "code",
   "execution_count": 370,
   "id": "2b6deea9",
   "metadata": {},
   "outputs": [
    {
     "data": {
      "text/plain": [
       "'RT @RawStory: Researchers say we have three years to act on climate change before it’s too late https://t.co/WdT0KdUr2f https://t.co/Z0ANPT…'"
      ]
     },
     "execution_count": 370,
     "metadata": {},
     "output_type": "execute_result"
    }
   ],
   "source": [
    "df['message'][2]"
   ]
  },
  {
   "cell_type": "markdown",
   "id": "7c0a44a5",
   "metadata": {},
   "source": [
    "<a id=\"three\"></a>\n",
    "## 3. Exploratory Data Analysis (EDA)\n",
    "<a class=\"anchor\" id=\"1.1\"></a>\n",
    "<a href=#cont>Back to Table of Contents</a>\n",
    "\n",
    "---\n",
    "    \n",
    "| ⚡ Description: Exploratory data analysis ⚡ |\n",
    "| :--------------------------- |\n",
    "| In this section, you are required to perform an in-depth analysis of all the variables in the DataFrame. |\n",
    "\n"
   ]
  },
  {
   "cell_type": "markdown",
   "id": "369e1f9c",
   "metadata": {},
   "source": [
    "Here we use various methods to take an in-depth look at our dataframe. These methods include:\n",
    "<ul>\n",
    "<li>isnull()</li>\n",
    "<li>info()</li>\n",
    "<li>isna()</li>\n",
    "<li>shape</li>\n",
    "\n",
    "</ul>"
   ]
  },
  {
   "cell_type": "code",
   "execution_count": 371,
   "id": "5310d2ba",
   "metadata": {},
   "outputs": [
    {
     "data": {
      "text/plain": [
       "sentiment    0\n",
       "message      0\n",
       "tweetid      0\n",
       "dtype: int64"
      ]
     },
     "execution_count": 371,
     "metadata": {},
     "output_type": "execute_result"
    }
   ],
   "source": [
    "df.isnull().sum()"
   ]
  },
  {
   "cell_type": "code",
   "execution_count": 372,
   "id": "048723b0",
   "metadata": {},
   "outputs": [
    {
     "data": {
      "text/plain": [
       "(15819, 3)"
      ]
     },
     "execution_count": 372,
     "metadata": {},
     "output_type": "execute_result"
    }
   ],
   "source": [
    "df.shape"
   ]
  },
  {
   "cell_type": "code",
   "execution_count": 373,
   "id": "a2ff2f18",
   "metadata": {},
   "outputs": [
    {
     "name": "stdout",
     "output_type": "stream",
     "text": [
      "<class 'pandas.core.frame.DataFrame'>\n",
      "RangeIndex: 15819 entries, 0 to 15818\n",
      "Data columns (total 3 columns):\n",
      " #   Column     Non-Null Count  Dtype \n",
      "---  ------     --------------  ----- \n",
      " 0   sentiment  15819 non-null  int64 \n",
      " 1   message    15819 non-null  object\n",
      " 2   tweetid    15819 non-null  int64 \n",
      "dtypes: int64(2), object(1)\n",
      "memory usage: 370.9+ KB\n"
     ]
    }
   ],
   "source": [
    "# look at data statistics\n",
    "df.info()"
   ]
  },
  {
   "cell_type": "code",
   "execution_count": 374,
   "id": "ea63136f",
   "metadata": {},
   "outputs": [
    {
     "name": "stdout",
     "output_type": "stream",
     "text": [
      "[1, 2, 0, -1]\n"
     ]
    }
   ],
   "source": [
    "sentiment_labels = list(df.sentiment.unique())\n",
    "print(sentiment_labels)"
   ]
  },
  {
   "cell_type": "code",
   "execution_count": 375,
   "id": "f8c76131",
   "metadata": {},
   "outputs": [
    {
     "data": {
      "image/png": "[encoded data removed]",
      "text/plain": [
       "<Figure size 432x288 with 1 Axes>"
      ]
     },
     "metadata": {
      "needs_background": "light"
     },
     "output_type": "display_data"
    }
   ],
   "source": [
    "df['sentiment'].value_counts().plot(kind = 'bar')\n",
    "plt.ylabel(\"# of observations\")\n",
    "plt.xlabel(\"sentiments\")\n",
    "plt.show()"
   ]
  },
  {
   "cell_type": "code",
   "execution_count": 376,
   "id": "016d50f0",
   "metadata": {},
   "outputs": [],
   "source": [
    "#word cloud\n",
    "#balanced and imbalanced data"
   ]
  },
  {
   "cell_type": "markdown",
   "id": "31d6b6b5",
   "metadata": {},
   "source": [
    "<a id=\"four\"></a>\n",
    "## 4. Data Engineering\n",
    "<a class=\"anchor\" id=\"1.1\"></a>\n",
    "<a href=#cont>Back to Table of Contents</a>\n",
    "\n",
    "---\n",
    "    \n",
    "| ⚡ Description: Data engineering ⚡ |\n",
    "| :--------------------------- |\n",
    "| In this section you are required to: clean the dataset, and possibly create new features - as identified in the EDA phase. |\n",
    "\n",
    "---"
   ]
  },
  {
   "cell_type": "code",
   "execution_count": 377,
   "id": "a9ba8a80",
   "metadata": {},
   "outputs": [
    {
     "data": {
      "text/plain": [
       "\"all_msg = []\\nfor i, row in df.iterrows():\\n    for msg in row['message'].split(' '):\\n        all_msg.append([row['sentiment'], msg, row['tweetid']])\\nall_msg = pd.DataFrame(all_msg, columns=['sentiment', 'message', 'tweetid'])\""
      ]
     },
     "execution_count": 377,
     "metadata": {},
     "output_type": "execute_result"
    }
   ],
   "source": [
    "#No need for this step\n",
    "\n",
    "'''all_msg = []\n",
    "for i, row in df.iterrows():\n",
    "    for msg in row['message'].split(' '):\n",
    "        all_msg.append([row['sentiment'], msg, row['tweetid']])\n",
    "all_msg = pd.DataFrame(all_msg, columns=['sentiment', 'message', 'tweetid'])'''"
   ]
  },
  {
   "cell_type": "code",
   "execution_count": 378,
   "id": "3997b2fb",
   "metadata": {},
   "outputs": [],
   "source": [
    "all_msg = df.copy()"
   ]
  },
  {
   "cell_type": "code",
   "execution_count": 379,
   "id": "4ad5d46c",
   "metadata": {},
   "outputs": [
    {
     "data": {
      "text/plain": [
       "(15819, 3)"
      ]
     },
     "execution_count": 379,
     "metadata": {},
     "output_type": "execute_result"
    }
   ],
   "source": [
    "all_msg.shape"
   ]
  },
  {
   "cell_type": "code",
   "execution_count": 380,
   "id": "ae90c25e",
   "metadata": {},
   "outputs": [
    {
     "data": {
      "text/html": [
       "<div>\n",
       "<style scoped>\n",
       "    .dataframe tbody tr th:only-of-type {\n",
       "        vertical-align: middle;\n",
       "    }\n",
       "\n",
       "    .dataframe tbody tr th {\n",
       "        vertical-align: top;\n",
       "    }\n",
       "\n",
       "    .dataframe thead th {\n",
       "        text-align: right;\n",
       "    }\n",
       "</style>\n",
       "<table border=\"1\" class=\"dataframe\">\n",
       "  <thead>\n",
       "    <tr style=\"text-align: right;\">\n",
       "      <th></th>\n",
       "      <th>sentiment</th>\n",
       "      <th>message</th>\n",
       "      <th>tweetid</th>\n",
       "    </tr>\n",
       "  </thead>\n",
       "  <tbody>\n",
       "    <tr>\n",
       "      <th>0</th>\n",
       "      <td>1</td>\n",
       "      <td>PolySciMajor EPA chief doesn't think carbon di...</td>\n",
       "      <td>625221</td>\n",
       "    </tr>\n",
       "    <tr>\n",
       "      <th>1</th>\n",
       "      <td>1</td>\n",
       "      <td>It's not like we lack evidence of anthropogeni...</td>\n",
       "      <td>126103</td>\n",
       "    </tr>\n",
       "    <tr>\n",
       "      <th>2</th>\n",
       "      <td>2</td>\n",
       "      <td>RT @RawStory: Researchers say we have three ye...</td>\n",
       "      <td>698562</td>\n",
       "    </tr>\n",
       "    <tr>\n",
       "      <th>3</th>\n",
       "      <td>1</td>\n",
       "      <td>#TodayinMaker# WIRED : 2016 was a pivotal year...</td>\n",
       "      <td>573736</td>\n",
       "    </tr>\n",
       "    <tr>\n",
       "      <th>4</th>\n",
       "      <td>1</td>\n",
       "      <td>RT @SoyNovioDeTodas: It's 2016, and a racist, ...</td>\n",
       "      <td>466954</td>\n",
       "    </tr>\n",
       "  </tbody>\n",
       "</table>\n",
       "</div>"
      ],
      "text/plain": [
       "   sentiment                                            message  tweetid\n",
       "0          1  PolySciMajor EPA chief doesn't think carbon di...   625221\n",
       "1          1  It's not like we lack evidence of anthropogeni...   126103\n",
       "2          2  RT @RawStory: Researchers say we have three ye...   698562\n",
       "3          1  #TodayinMaker# WIRED : 2016 was a pivotal year...   573736\n",
       "4          1  RT @SoyNovioDeTodas: It's 2016, and a racist, ...   466954"
      ]
     },
     "execution_count": 380,
     "metadata": {},
     "output_type": "execute_result"
    }
   ],
   "source": [
    "all_msg.head()"
   ]
  },
  {
   "cell_type": "code",
   "execution_count": 381,
   "id": "c773cd90",
   "metadata": {},
   "outputs": [
    {
     "data": {
      "image/png": "[encoded data removed]",
      "text/plain": [
       "<Figure size 432x288 with 1 Axes>"
      ]
     },
     "metadata": {
      "needs_background": "light"
     },
     "output_type": "display_data"
    }
   ],
   "source": [
    "all_msg['sentiment'].value_counts().plot(kind = 'bar')\n",
    "plt.ylabel(\"# of observations\")\n",
    "plt.xlabel(\"sentiments\")\n",
    "plt.show()"
   ]
  },
  {
   "cell_type": "code",
   "execution_count": 382,
   "id": "4c8beac2",
   "metadata": {},
   "outputs": [],
   "source": [
    "#removing web URL\n",
    "#COnsider removing twitter handles\n",
    "\n",
    "pattern_url = r'http[s]?://(?:[A-Za-z]|[0-9]|[$-_@.&+]|[!*\\(\\),]|(?:%[0-9A-Fa-f][0-9A-Fa-f]))+'\n",
    "subs_url = r'url-web'\n",
    "all_msg['message'] = all_msg['message'].replace(to_replace = pattern_url, value = subs_url, regex = True)"
   ]
  },
  {
   "cell_type": "code",
   "execution_count": 383,
   "id": "23c22f27",
   "metadata": {},
   "outputs": [
    {
     "data": {
      "text/html": [
       "<div>\n",
       "<style scoped>\n",
       "    .dataframe tbody tr th:only-of-type {\n",
       "        vertical-align: middle;\n",
       "    }\n",
       "\n",
       "    .dataframe tbody tr th {\n",
       "        vertical-align: top;\n",
       "    }\n",
       "\n",
       "    .dataframe thead th {\n",
       "        text-align: right;\n",
       "    }\n",
       "</style>\n",
       "<table border=\"1\" class=\"dataframe\">\n",
       "  <thead>\n",
       "    <tr style=\"text-align: right;\">\n",
       "      <th></th>\n",
       "      <th>sentiment</th>\n",
       "      <th>message</th>\n",
       "      <th>tweetid</th>\n",
       "    </tr>\n",
       "  </thead>\n",
       "  <tbody>\n",
       "    <tr>\n",
       "      <th>0</th>\n",
       "      <td>1</td>\n",
       "      <td>PolySciMajor EPA chief doesn't think carbon di...</td>\n",
       "      <td>625221</td>\n",
       "    </tr>\n",
       "    <tr>\n",
       "      <th>1</th>\n",
       "      <td>1</td>\n",
       "      <td>It's not like we lack evidence of anthropogeni...</td>\n",
       "      <td>126103</td>\n",
       "    </tr>\n",
       "    <tr>\n",
       "      <th>2</th>\n",
       "      <td>2</td>\n",
       "      <td>RT @RawStory: Researchers say we have three ye...</td>\n",
       "      <td>698562</td>\n",
       "    </tr>\n",
       "    <tr>\n",
       "      <th>3</th>\n",
       "      <td>1</td>\n",
       "      <td>#TodayinMaker# WIRED : 2016 was a pivotal year...</td>\n",
       "      <td>573736</td>\n",
       "    </tr>\n",
       "    <tr>\n",
       "      <th>4</th>\n",
       "      <td>1</td>\n",
       "      <td>RT @SoyNovioDeTodas: It's 2016, and a racist, ...</td>\n",
       "      <td>466954</td>\n",
       "    </tr>\n",
       "  </tbody>\n",
       "</table>\n",
       "</div>"
      ],
      "text/plain": [
       "   sentiment                                            message  tweetid\n",
       "0          1  PolySciMajor EPA chief doesn't think carbon di...   625221\n",
       "1          1  It's not like we lack evidence of anthropogeni...   126103\n",
       "2          2  RT @RawStory: Researchers say we have three ye...   698562\n",
       "3          1  #TodayinMaker# WIRED : 2016 was a pivotal year...   573736\n",
       "4          1  RT @SoyNovioDeTodas: It's 2016, and a racist, ...   466954"
      ]
     },
     "execution_count": 383,
     "metadata": {},
     "output_type": "execute_result"
    }
   ],
   "source": [
    "all_msg.head()"
   ]
  },
  {
   "cell_type": "code",
   "execution_count": 384,
   "id": "2744182a",
   "metadata": {},
   "outputs": [],
   "source": [
    "#converting message column to lower case\n",
    "\n",
    "all_msg['message'] = all_msg['message'].str.lower()"
   ]
  },
  {
   "cell_type": "code",
   "execution_count": 385,
   "id": "425679cb",
   "metadata": {},
   "outputs": [
    {
     "name": "stdout",
     "output_type": "stream",
     "text": [
      "!\"#$%&'()*+,-./:;<=>?@[\\]^_`{|}~\n"
     ]
    }
   ],
   "source": [
    "print(string.punctuation)"
   ]
  },
  {
   "cell_type": "code",
   "execution_count": 386,
   "id": "05cf6bec",
   "metadata": {},
   "outputs": [],
   "source": [
    "#remove punctuation\n",
    "\n",
    "def remove_punctuation(post):\n",
    "    return ''.join([l for l in post if l not in string.punctuation])"
   ]
  },
  {
   "cell_type": "code",
   "execution_count": 387,
   "id": "18091856",
   "metadata": {},
   "outputs": [],
   "source": [
    "all_msg['message'] = all_msg['message'].apply(remove_punctuation)"
   ]
  },
  {
   "cell_type": "code",
   "execution_count": 388,
   "id": "3eb324a4",
   "metadata": {},
   "outputs": [
    {
     "data": {
      "text/html": [
       "<div>\n",
       "<style scoped>\n",
       "    .dataframe tbody tr th:only-of-type {\n",
       "        vertical-align: middle;\n",
       "    }\n",
       "\n",
       "    .dataframe tbody tr th {\n",
       "        vertical-align: top;\n",
       "    }\n",
       "\n",
       "    .dataframe thead th {\n",
       "        text-align: right;\n",
       "    }\n",
       "</style>\n",
       "<table border=\"1\" class=\"dataframe\">\n",
       "  <thead>\n",
       "    <tr style=\"text-align: right;\">\n",
       "      <th></th>\n",
       "      <th>sentiment</th>\n",
       "      <th>message</th>\n",
       "      <th>tweetid</th>\n",
       "    </tr>\n",
       "  </thead>\n",
       "  <tbody>\n",
       "    <tr>\n",
       "      <th>0</th>\n",
       "      <td>1</td>\n",
       "      <td>polyscimajor epa chief doesnt think carbon dio...</td>\n",
       "      <td>625221</td>\n",
       "    </tr>\n",
       "    <tr>\n",
       "      <th>1</th>\n",
       "      <td>1</td>\n",
       "      <td>its not like we lack evidence of anthropogenic...</td>\n",
       "      <td>126103</td>\n",
       "    </tr>\n",
       "    <tr>\n",
       "      <th>2</th>\n",
       "      <td>2</td>\n",
       "      <td>rt rawstory researchers say we have three year...</td>\n",
       "      <td>698562</td>\n",
       "    </tr>\n",
       "    <tr>\n",
       "      <th>3</th>\n",
       "      <td>1</td>\n",
       "      <td>todayinmaker wired  2016 was a pivotal year in...</td>\n",
       "      <td>573736</td>\n",
       "    </tr>\n",
       "    <tr>\n",
       "      <th>4</th>\n",
       "      <td>1</td>\n",
       "      <td>rt soynoviodetodas its 2016 and a racist sexis...</td>\n",
       "      <td>466954</td>\n",
       "    </tr>\n",
       "  </tbody>\n",
       "</table>\n",
       "</div>"
      ],
      "text/plain": [
       "   sentiment                                            message  tweetid\n",
       "0          1  polyscimajor epa chief doesnt think carbon dio...   625221\n",
       "1          1  its not like we lack evidence of anthropogenic...   126103\n",
       "2          2  rt rawstory researchers say we have three year...   698562\n",
       "3          1  todayinmaker wired  2016 was a pivotal year in...   573736\n",
       "4          1  rt soynoviodetodas its 2016 and a racist sexis...   466954"
      ]
     },
     "execution_count": 388,
     "metadata": {},
     "output_type": "execute_result"
    }
   ],
   "source": [
    "all_msg.head()"
   ]
  },
  {
   "cell_type": "code",
   "execution_count": 389,
   "id": "c6d40f3e",
   "metadata": {},
   "outputs": [
    {
     "data": {
      "text/plain": [
       "'will anyone who supports trumps view of climate change non polluter cronie please step forward resist impeach urlweb'"
      ]
     },
     "execution_count": 389,
     "metadata": {},
     "output_type": "execute_result"
    }
   ],
   "source": [
    "all_msg['message'][47]"
   ]
  },
  {
   "cell_type": "code",
   "execution_count": 390,
   "id": "0b3fb556",
   "metadata": {},
   "outputs": [],
   "source": [
    "tokeniser = TreebankWordTokenizer()\n",
    "all_msg['tokens'] = all_msg['message'].apply(tokeniser.tokenize)"
   ]
  },
  {
   "cell_type": "code",
   "execution_count": 391,
   "id": "6b2b135a",
   "metadata": {},
   "outputs": [
    {
     "data": {
      "text/html": [
       "<div>\n",
       "<style scoped>\n",
       "    .dataframe tbody tr th:only-of-type {\n",
       "        vertical-align: middle;\n",
       "    }\n",
       "\n",
       "    .dataframe tbody tr th {\n",
       "        vertical-align: top;\n",
       "    }\n",
       "\n",
       "    .dataframe thead th {\n",
       "        text-align: right;\n",
       "    }\n",
       "</style>\n",
       "<table border=\"1\" class=\"dataframe\">\n",
       "  <thead>\n",
       "    <tr style=\"text-align: right;\">\n",
       "      <th></th>\n",
       "      <th>sentiment</th>\n",
       "      <th>message</th>\n",
       "      <th>tweetid</th>\n",
       "      <th>tokens</th>\n",
       "    </tr>\n",
       "  </thead>\n",
       "  <tbody>\n",
       "    <tr>\n",
       "      <th>0</th>\n",
       "      <td>1</td>\n",
       "      <td>polyscimajor epa chief doesnt think carbon dio...</td>\n",
       "      <td>625221</td>\n",
       "      <td>[polyscimajor, epa, chief, doesnt, think, carb...</td>\n",
       "    </tr>\n",
       "    <tr>\n",
       "      <th>1</th>\n",
       "      <td>1</td>\n",
       "      <td>its not like we lack evidence of anthropogenic...</td>\n",
       "      <td>126103</td>\n",
       "      <td>[its, not, like, we, lack, evidence, of, anthr...</td>\n",
       "    </tr>\n",
       "    <tr>\n",
       "      <th>2</th>\n",
       "      <td>2</td>\n",
       "      <td>rt rawstory researchers say we have three year...</td>\n",
       "      <td>698562</td>\n",
       "      <td>[rt, rawstory, researchers, say, we, have, thr...</td>\n",
       "    </tr>\n",
       "    <tr>\n",
       "      <th>3</th>\n",
       "      <td>1</td>\n",
       "      <td>todayinmaker wired  2016 was a pivotal year in...</td>\n",
       "      <td>573736</td>\n",
       "      <td>[todayinmaker, wired, 2016, was, a, pivotal, y...</td>\n",
       "    </tr>\n",
       "    <tr>\n",
       "      <th>4</th>\n",
       "      <td>1</td>\n",
       "      <td>rt soynoviodetodas its 2016 and a racist sexis...</td>\n",
       "      <td>466954</td>\n",
       "      <td>[rt, soynoviodetodas, its, 2016, and, a, racis...</td>\n",
       "    </tr>\n",
       "  </tbody>\n",
       "</table>\n",
       "</div>"
      ],
      "text/plain": [
       "   sentiment                                            message  tweetid  \\\n",
       "0          1  polyscimajor epa chief doesnt think carbon dio...   625221   \n",
       "1          1  its not like we lack evidence of anthropogenic...   126103   \n",
       "2          2  rt rawstory researchers say we have three year...   698562   \n",
       "3          1  todayinmaker wired  2016 was a pivotal year in...   573736   \n",
       "4          1  rt soynoviodetodas its 2016 and a racist sexis...   466954   \n",
       "\n",
       "                                              tokens  \n",
       "0  [polyscimajor, epa, chief, doesnt, think, carb...  \n",
       "1  [its, not, like, we, lack, evidence, of, anthr...  \n",
       "2  [rt, rawstory, researchers, say, we, have, thr...  \n",
       "3  [todayinmaker, wired, 2016, was, a, pivotal, y...  \n",
       "4  [rt, soynoviodetodas, its, 2016, and, a, racis...  "
      ]
     },
     "execution_count": 391,
     "metadata": {},
     "output_type": "execute_result"
    }
   ],
   "source": [
    "all_msg.head()"
   ]
  },
  {
   "cell_type": "code",
   "execution_count": 392,
   "id": "f34d05ad",
   "metadata": {},
   "outputs": [],
   "source": [
    "# find the stem of each word in words\n",
    "stemmer = SnowballStemmer('english')"
   ]
  },
  {
   "cell_type": "code",
   "execution_count": 393,
   "id": "69f2c100",
   "metadata": {},
   "outputs": [],
   "source": [
    "def mbti_stemmer(words, stemmer):\n",
    "    return [stemmer.stem(word) for word in words]"
   ]
  },
  {
   "cell_type": "code",
   "execution_count": 394,
   "id": "42aec170",
   "metadata": {},
   "outputs": [],
   "source": [
    "all_msg['stem'] = all_msg['tokens'].apply(mbti_stemmer, args=(stemmer, ))"
   ]
  },
  {
   "cell_type": "code",
   "execution_count": 395,
   "id": "669f253b",
   "metadata": {},
   "outputs": [],
   "source": [
    "lemmatizer = WordNetLemmatizer()"
   ]
  },
  {
   "cell_type": "code",
   "execution_count": 396,
   "id": "0789c24e",
   "metadata": {},
   "outputs": [],
   "source": [
    "def mbti_lemma(words, lemmatizer):\n",
    "    return [lemmatizer.lemmatize(word) for word in words]    "
   ]
  },
  {
   "cell_type": "code",
   "execution_count": 397,
   "id": "c47ad91c",
   "metadata": {},
   "outputs": [],
   "source": [
    "all_msg['lemma'] = all_msg['tokens'].apply(mbti_lemma, args=(lemmatizer, ))"
   ]
  },
  {
   "cell_type": "code",
   "execution_count": 398,
   "id": "2fa06d5f",
   "metadata": {},
   "outputs": [],
   "source": [
    "def remove_stop_words(tokens):    \n",
    "    return [t for t in tokens if t not in stopwords.words('english')]"
   ]
  },
  {
   "cell_type": "code",
   "execution_count": 399,
   "id": "0543287d",
   "metadata": {},
   "outputs": [],
   "source": [
    "#In case you want to run the analysis again without stop words, uncomment and run the following cell! \n",
    "#Be warned, this can take long with the pandas apply function\n",
    "\n",
    "# all_mbti['stem'] = all_mbti['tokens'].apply(remove_stop_words)"
   ]
  },
  {
   "cell_type": "code",
   "execution_count": 400,
   "id": "a93584b1",
   "metadata": {},
   "outputs": [],
   "source": [
    "#The NLTK classifiers expect dict style feature sets, so we must therefore transform our text into a dict\n",
    "\n",
    "def bag_of_words_count(words, word_dict={}):\n",
    "    \"\"\" this function takes in a list of words and returns a dictionary \n",
    "        with each word as a key, and the value represents the number of \n",
    "        times that word appeared\"\"\"\n",
    "    for word in words:\n",
    "        if word in word_dict.keys():\n",
    "            word_dict[word] += 1\n",
    "        else:\n",
    "            word_dict[word] = 1\n",
    "    return word_dict"
   ]
  },
  {
   "cell_type": "code",
   "execution_count": 401,
   "id": "7456e9f4",
   "metadata": {},
   "outputs": [],
   "source": [
    "#Here we create a set of dictionaries, one for each of the MBTI types.\n",
    "\n",
    "\n",
    "believe = {}\n",
    "for pp in sentiment_labels:\n",
    "    df_2 = all_msg.groupby('sentiment')\n",
    "    believe[pp] = {}\n",
    "    for row in df_2.get_group(pp)['tokens']:\n",
    "        believe[pp] = bag_of_words_count(row, believe[pp]) "
   ]
  },
  {
   "cell_type": "code",
   "execution_count": 402,
   "id": "f1e2700e",
   "metadata": {},
   "outputs": [],
   "source": [
    "#Next, we create a list of all of the unique words.\n",
    "\n",
    "all_words = set()\n",
    "for pp in sentiment_labels:\n",
    "    for word in believe[pp]:\n",
    "        all_words.add(word)"
   ]
  },
  {
   "cell_type": "code",
   "execution_count": 403,
   "id": "670032a3",
   "metadata": {},
   "outputs": [],
   "source": [
    "#This was done so that we can create a combined bag of words dictionary for all the words in the text.\n",
    "\n",
    "believe['all'] = {}\n",
    "for pp in sentiment_labels:    \n",
    "    for word in all_words:\n",
    "        if word in believe[pp].keys():\n",
    "            if word in believe['all']:\n",
    "                believe['all'][word] += believe[pp][word]\n",
    "            else:\n",
    "                believe['all'][word] = believe[pp][word]    "
   ]
  },
  {
   "cell_type": "code",
   "execution_count": 404,
   "id": "e4981bac",
   "metadata": {},
   "outputs": [
    {
     "data": {
      "text/plain": [
       "278214"
      ]
     },
     "execution_count": 404,
     "metadata": {},
     "output_type": "execute_result"
    }
   ],
   "source": [
    "#Now we can easily calculate how many words there are in total.\n",
    "\n",
    "total_words = sum([v for v in believe['all'].values()])\n",
    "total_words"
   ]
  },
  {
   "cell_type": "code",
   "execution_count": 405,
   "id": "ba03bf36",
   "metadata": {},
   "outputs": [
    {
     "data": {
      "text/plain": [
       "Text(0.5, 0, 'word frequency')"
      ]
     },
     "execution_count": 405,
     "metadata": {},
     "output_type": "execute_result"
    },
    {
     "data": {
      "image/png": "[encoded data removed]",
      "text/plain": [
       "<Figure size 432x288 with 1 Axes>"
      ]
     },
     "metadata": {
      "needs_background": "light"
     },
     "output_type": "display_data"
    }
   ],
   "source": [
    "#Let's take a look at the distribution of words which occur less than 10 times in the whole dataset.\n",
    "\n",
    "_ = plt.hist([v for v in believe['all'].values() if v < 10],bins=10)\n",
    "plt.ylabel(\"# of words\")\n",
    "plt.xlabel(\"word frequency\")"
   ]
  },
  {
   "cell_type": "code",
   "execution_count": 406,
   "id": "bd7c4b6d",
   "metadata": {},
   "outputs": [
    {
     "data": {
      "text/plain": [
       "16846"
      ]
     },
     "execution_count": 406,
     "metadata": {},
     "output_type": "execute_result"
    }
   ],
   "source": [
    "#There are a lot of words that only appear once! We'll print out that value here.\n",
    "\n",
    "len([v for v in believe['all'].values() if v == 1])"
   ]
  },
  {
   "cell_type": "code",
   "execution_count": 407,
   "id": "4c9666a7",
   "metadata": {},
   "outputs": [
    {
     "name": "stdout",
     "output_type": "stream",
     "text": [
      "['loooooads', 'collected', 'oilwhore', 'tvs', 'crimin…', 'adelaconchado', 'servants', 'currency', 'katharine', 'tokimonsta', 'changeso', 'argentinian', 'pasignyc', 'dgã¢â‚¬â¦', 'roparbarbara', 'tacloban', 'generat…', 'if…', 'declined', 'galkamax', 'empower…', 'legitimizing', 'adopt…', 'mitchkasaberi', 'tweetsoutloud', 'truue', 'genl', 'theconversation', 'prez', 'spacekatgal', 'saturn', 'endeavoursci', 'newinfr…', 'lisang', '215', 'mountaineer', 'godd…', 'jamieszymko', 'guyshrubsole', 'cats', 'stevendeknight', 'sec…', '100pmin', 'joelwwood', 'gearing', 'conduct', 'chiã¢â‚¬â¦', 'impactsã¢â‚¬â¦', 'kimmicflatworld', 'misandrism', 'nitrous', 'distressed', '“value”', 'challengesrise', 'changegtgt…', 'baptcare', 'ulrichjvv', 'protest…', 'exist😔', 'jose', 'fiesta', 'paxamslays', 'raid', '……', 'islandphone', 'todayour', 'politics…', 'climatejusticemonth', 'josefgoldilock', 'capandtradethats', 'jayelharris', 'sweatshirt', 'commonwealthsecfiji', 'conways', 'glocam', 'staffed', 'staff…', 'sessionssteve', 'krikke', 'sagans', 'sarahsmarsh', 'ugandas', 'incr', 'heraldtimes', 'butterly', 'buoceans', 'anandacoomara', 'rolandsmartin', 'shelbyleo', 'conscience', 'expatina', 'weã¢â‚¬â¦', 'agent350', 'makessense', 'harness', 'frantic', 'petitebiscut', 'pity', 'childs', 'profpcdoherty']\n"
     ]
    }
   ],
   "source": [
    "#What kind of words do you think would appear once out of roughly 8 million words?\n",
    "#Let's print out a few of these rare words.\n",
    "\n",
    "rare_words = [k for k, v in believe['all'].items() if v==1] \n",
    "print(rare_words[:100])"
   ]
  },
  {
   "cell_type": "code",
   "execution_count": 408,
   "id": "018d42ae",
   "metadata": {},
   "outputs": [
    {
     "name": "stdout",
     "output_type": "stream",
     "text": [
      "2494\n",
      "235570\n"
     ]
    }
   ],
   "source": [
    "#As you can see, some of these words don't make sense, but before we decide to remove them, \n",
    "#let's see how much data we'll be left with.\n",
    "\n",
    "# how many words appear more than 10 times?\n",
    "# how many words of the total does that account for?\n",
    "print(len([v for v in believe['all'].values() if v >= 10]))\n",
    "occurs_more_than_10_times = sum([v for v in believe['all'].values() if v >= 10])\n",
    "print(occurs_more_than_10_times)"
   ]
  },
  {
   "cell_type": "code",
   "execution_count": 409,
   "id": "9417d542",
   "metadata": {},
   "outputs": [
    {
     "data": {
      "text/plain": [
       "0.846722307288634"
      ]
     },
     "execution_count": 409,
     "metadata": {},
     "output_type": "execute_result"
    }
   ],
   "source": [
    "occurs_more_than_10_times/total_words"
   ]
  },
  {
   "cell_type": "code",
   "execution_count": 410,
   "id": "58eba853",
   "metadata": {},
   "outputs": [],
   "source": [
    "# Finally, let's remove all words that occur less than 10 times.\n",
    "\n",
    "max_count = 10\n",
    "remaining_word_index = [k for k, v in believe['all'].items() if v > max_count]"
   ]
  },
  {
   "cell_type": "code",
   "execution_count": 411,
   "id": "6f677a02",
   "metadata": {},
   "outputs": [],
   "source": [
    "#HYPOTHESIS TESTING\n",
    "\n",
    "#Let's see if we finally have what we need to test it out. \n",
    "#We'll first create one big dataframe with the word counts by personality profile\n",
    "\n",
    "hm = []\n",
    "for p, p_bow in believe.items():\n",
    "    df_bow = pd.DataFrame([(k, v) for k, v in p_bow.items() if k in remaining_word_index], columns=['Word', p])\n",
    "    df_bow.set_index('Word', inplace=True)\n",
    "    hm.append(df_bow)\n",
    "\n",
    "# create one big dataframe\n",
    "df_bow = pd.concat(hm, axis=1)\n",
    "df_bow.fillna(0, inplace=True)"
   ]
  },
  {
   "cell_type": "code",
   "execution_count": 412,
   "id": "32146c16",
   "metadata": {},
   "outputs": [
    {
     "data": {
      "text/html": [
       "<div>\n",
       "<style scoped>\n",
       "    .dataframe tbody tr th:only-of-type {\n",
       "        vertical-align: middle;\n",
       "    }\n",
       "\n",
       "    .dataframe tbody tr th {\n",
       "        vertical-align: top;\n",
       "    }\n",
       "\n",
       "    .dataframe thead th {\n",
       "        text-align: right;\n",
       "    }\n",
       "</style>\n",
       "<table border=\"1\" class=\"dataframe\">\n",
       "  <thead>\n",
       "    <tr style=\"text-align: right;\">\n",
       "      <th></th>\n",
       "      <th>1</th>\n",
       "      <th>2</th>\n",
       "      <th>0</th>\n",
       "      <th>-1</th>\n",
       "      <th>all</th>\n",
       "    </tr>\n",
       "    <tr>\n",
       "      <th>Word</th>\n",
       "      <th></th>\n",
       "      <th></th>\n",
       "      <th></th>\n",
       "      <th></th>\n",
       "      <th></th>\n",
       "    </tr>\n",
       "  </thead>\n",
       "  <tbody>\n",
       "    <tr>\n",
       "      <th>climate</th>\n",
       "      <td>7346.0</td>\n",
       "      <td>3327.0</td>\n",
       "      <td>1437.0</td>\n",
       "      <td>787.0</td>\n",
       "      <td>12897</td>\n",
       "    </tr>\n",
       "    <tr>\n",
       "      <th>change</th>\n",
       "      <td>6968.0</td>\n",
       "      <td>3139.0</td>\n",
       "      <td>1370.0</td>\n",
       "      <td>735.0</td>\n",
       "      <td>12212</td>\n",
       "    </tr>\n",
       "    <tr>\n",
       "      <th>rt</th>\n",
       "      <td>5796.0</td>\n",
       "      <td>2151.0</td>\n",
       "      <td>1091.0</td>\n",
       "      <td>684.0</td>\n",
       "      <td>9722</td>\n",
       "    </tr>\n",
       "    <tr>\n",
       "      <th>urlweb</th>\n",
       "      <td>3188.0</td>\n",
       "      <td>3627.0</td>\n",
       "      <td>754.0</td>\n",
       "      <td>459.0</td>\n",
       "      <td>8028</td>\n",
       "    </tr>\n",
       "    <tr>\n",
       "      <th>the</th>\n",
       "      <td>4769.0</td>\n",
       "      <td>1129.0</td>\n",
       "      <td>946.0</td>\n",
       "      <td>844.0</td>\n",
       "      <td>7688</td>\n",
       "    </tr>\n",
       "    <tr>\n",
       "      <th>to</th>\n",
       "      <td>4314.0</td>\n",
       "      <td>1624.0</td>\n",
       "      <td>747.0</td>\n",
       "      <td>478.0</td>\n",
       "      <td>7163</td>\n",
       "    </tr>\n",
       "    <tr>\n",
       "      <th>is</th>\n",
       "      <td>2841.0</td>\n",
       "      <td>408.0</td>\n",
       "      <td>592.0</td>\n",
       "      <td>526.0</td>\n",
       "      <td>4367</td>\n",
       "    </tr>\n",
       "    <tr>\n",
       "      <th>of</th>\n",
       "      <td>2604.0</td>\n",
       "      <td>801.0</td>\n",
       "      <td>455.0</td>\n",
       "      <td>349.0</td>\n",
       "      <td>4209</td>\n",
       "    </tr>\n",
       "    <tr>\n",
       "      <th>a</th>\n",
       "      <td>2680.0</td>\n",
       "      <td>537.0</td>\n",
       "      <td>564.0</td>\n",
       "      <td>348.0</td>\n",
       "      <td>4129</td>\n",
       "    </tr>\n",
       "    <tr>\n",
       "      <th>global</th>\n",
       "      <td>1594.0</td>\n",
       "      <td>503.0</td>\n",
       "      <td>1035.0</td>\n",
       "      <td>632.0</td>\n",
       "      <td>3764</td>\n",
       "    </tr>\n",
       "  </tbody>\n",
       "</table>\n",
       "</div>"
      ],
      "text/plain": [
       "              1       2       0     -1    all\n",
       "Word                                         \n",
       "climate  7346.0  3327.0  1437.0  787.0  12897\n",
       "change   6968.0  3139.0  1370.0  735.0  12212\n",
       "rt       5796.0  2151.0  1091.0  684.0   9722\n",
       "urlweb   3188.0  3627.0   754.0  459.0   8028\n",
       "the      4769.0  1129.0   946.0  844.0   7688\n",
       "to       4314.0  1624.0   747.0  478.0   7163\n",
       "is       2841.0   408.0   592.0  526.0   4367\n",
       "of       2604.0   801.0   455.0  349.0   4209\n",
       "a        2680.0   537.0   564.0  348.0   4129\n",
       "global   1594.0   503.0  1035.0  632.0   3764"
      ]
     },
     "execution_count": 412,
     "metadata": {},
     "output_type": "execute_result"
    }
   ],
   "source": [
    "#What are the top 10 words which appear most often?\n",
    "\n",
    "df_bow.sort_values(by='all', ascending=False).head(10)"
   ]
  },
  {
   "cell_type": "code",
   "execution_count": 413,
   "id": "5fba20b2",
   "metadata": {},
   "outputs": [],
   "source": [
    "#This isn't very helpful at all, is it? It's very difficult to extract insights from this data. \n",
    "#Let's see if we can use the  𝑐ℎ𝑖2  test to see whether Introverts favour the word I. \n",
    "#We'll do this first by extracting introvert types only from all the personality types.\n",
    "\n",
    "#pro_types = [p for p in sentiment_labels if p[0] == 'I']\n",
    "\n",
    "#Now we'll calculate and add percentage columns.\n",
    "for col in [1, 2, 0, -1, 'all']:\n",
    "    df_bow[str(col)+'_perc'] = df_bow[col] / df_bow[col].sum()"
   ]
  },
  {
   "cell_type": "code",
   "execution_count": 414,
   "id": "3162dd35",
   "metadata": {},
   "outputs": [
    {
     "data": {
      "text/html": [
       "<div>\n",
       "<style scoped>\n",
       "    .dataframe tbody tr th:only-of-type {\n",
       "        vertical-align: middle;\n",
       "    }\n",
       "\n",
       "    .dataframe tbody tr th {\n",
       "        vertical-align: top;\n",
       "    }\n",
       "\n",
       "    .dataframe thead th {\n",
       "        text-align: right;\n",
       "    }\n",
       "</style>\n",
       "<table border=\"1\" class=\"dataframe\">\n",
       "  <thead>\n",
       "    <tr style=\"text-align: right;\">\n",
       "      <th></th>\n",
       "      <th>1</th>\n",
       "      <th>2</th>\n",
       "      <th>0</th>\n",
       "      <th>-1</th>\n",
       "      <th>all</th>\n",
       "      <th>1_perc</th>\n",
       "      <th>2_perc</th>\n",
       "      <th>0_perc</th>\n",
       "      <th>-1_perc</th>\n",
       "      <th>all_perc</th>\n",
       "    </tr>\n",
       "    <tr>\n",
       "      <th>Word</th>\n",
       "      <th></th>\n",
       "      <th></th>\n",
       "      <th></th>\n",
       "      <th></th>\n",
       "      <th></th>\n",
       "      <th></th>\n",
       "      <th></th>\n",
       "      <th></th>\n",
       "      <th></th>\n",
       "      <th></th>\n",
       "    </tr>\n",
       "  </thead>\n",
       "  <tbody>\n",
       "    <tr>\n",
       "      <th>epa</th>\n",
       "      <td>268.0</td>\n",
       "      <td>240.0</td>\n",
       "      <td>29.0</td>\n",
       "      <td>16.0</td>\n",
       "      <td>553</td>\n",
       "      <td>0.001957</td>\n",
       "      <td>0.005113</td>\n",
       "      <td>0.000951</td>\n",
       "      <td>0.000823</td>\n",
       "      <td>0.002365</td>\n",
       "    </tr>\n",
       "    <tr>\n",
       "      <th>chief</th>\n",
       "      <td>66.0</td>\n",
       "      <td>100.0</td>\n",
       "      <td>5.0</td>\n",
       "      <td>5.0</td>\n",
       "      <td>176</td>\n",
       "      <td>0.000482</td>\n",
       "      <td>0.002131</td>\n",
       "      <td>0.000164</td>\n",
       "      <td>0.000257</td>\n",
       "      <td>0.000753</td>\n",
       "    </tr>\n",
       "    <tr>\n",
       "      <th>doesnt</th>\n",
       "      <td>718.0</td>\n",
       "      <td>21.0</td>\n",
       "      <td>53.0</td>\n",
       "      <td>20.0</td>\n",
       "      <td>812</td>\n",
       "      <td>0.005242</td>\n",
       "      <td>0.000447</td>\n",
       "      <td>0.001739</td>\n",
       "      <td>0.001029</td>\n",
       "      <td>0.003473</td>\n",
       "    </tr>\n",
       "    <tr>\n",
       "      <th>think</th>\n",
       "      <td>234.0</td>\n",
       "      <td>16.0</td>\n",
       "      <td>81.0</td>\n",
       "      <td>29.0</td>\n",
       "      <td>360</td>\n",
       "      <td>0.001708</td>\n",
       "      <td>0.000341</td>\n",
       "      <td>0.002657</td>\n",
       "      <td>0.001492</td>\n",
       "      <td>0.001540</td>\n",
       "    </tr>\n",
       "    <tr>\n",
       "      <th>carbon</th>\n",
       "      <td>96.0</td>\n",
       "      <td>78.0</td>\n",
       "      <td>12.0</td>\n",
       "      <td>15.0</td>\n",
       "      <td>201</td>\n",
       "      <td>0.000701</td>\n",
       "      <td>0.001662</td>\n",
       "      <td>0.000394</td>\n",
       "      <td>0.000772</td>\n",
       "      <td>0.000860</td>\n",
       "    </tr>\n",
       "  </tbody>\n",
       "</table>\n",
       "</div>"
      ],
      "text/plain": [
       "            1      2     0    -1  all    1_perc    2_perc    0_perc   -1_perc  \\\n",
       "Word                                                                            \n",
       "epa     268.0  240.0  29.0  16.0  553  0.001957  0.005113  0.000951  0.000823   \n",
       "chief    66.0  100.0   5.0   5.0  176  0.000482  0.002131  0.000164  0.000257   \n",
       "doesnt  718.0   21.0  53.0  20.0  812  0.005242  0.000447  0.001739  0.001029   \n",
       "think   234.0   16.0  81.0  29.0  360  0.001708  0.000341  0.002657  0.001492   \n",
       "carbon   96.0   78.0  12.0  15.0  201  0.000701  0.001662  0.000394  0.000772   \n",
       "\n",
       "        all_perc  \n",
       "Word              \n",
       "epa     0.002365  \n",
       "chief   0.000753  \n",
       "doesnt  0.003473  \n",
       "think   0.001540  \n",
       "carbon  0.000860  "
      ]
     },
     "execution_count": 414,
     "metadata": {},
     "output_type": "execute_result"
    }
   ],
   "source": [
    "df_bow.head()"
   ]
  },
  {
   "cell_type": "code",
   "execution_count": 415,
   "id": "9b923ea6",
   "metadata": {},
   "outputs": [],
   "source": [
    "# calculate chi2\n",
    "df_bow['1_chi2'] = np.power((df_bow['1_perc'] - df_bow['all_perc']), 2) / df_bow['all_perc']\n",
    "df_bow['2_chi2'] = np.power((df_bow['2_perc'] - df_bow['all_perc']), 2) / df_bow['all_perc']\n",
    "df_bow['0_chi2'] = np.power((df_bow['0_perc'] - df_bow['all_perc']), 2) / df_bow['all_perc']\n",
    "df_bow['-1_chi2'] = np.power((df_bow['-1_perc'] - df_bow['all_perc']), 2) / df_bow['all_perc']"
   ]
  },
  {
   "cell_type": "code",
   "execution_count": 416,
   "id": "a694b63c",
   "metadata": {},
   "outputs": [
    {
     "data": {
      "text/html": [
       "<div>\n",
       "<style scoped>\n",
       "    .dataframe tbody tr th:only-of-type {\n",
       "        vertical-align: middle;\n",
       "    }\n",
       "\n",
       "    .dataframe tbody tr th {\n",
       "        vertical-align: top;\n",
       "    }\n",
       "\n",
       "    .dataframe thead th {\n",
       "        text-align: right;\n",
       "    }\n",
       "</style>\n",
       "<table border=\"1\" class=\"dataframe\">\n",
       "  <thead>\n",
       "    <tr style=\"text-align: right;\">\n",
       "      <th></th>\n",
       "      <th>1_perc</th>\n",
       "      <th>all_perc</th>\n",
       "      <th>1_chi2</th>\n",
       "    </tr>\n",
       "    <tr>\n",
       "      <th>Word</th>\n",
       "      <th></th>\n",
       "      <th></th>\n",
       "      <th></th>\n",
       "    </tr>\n",
       "  </thead>\n",
       "  <tbody>\n",
       "    <tr>\n",
       "      <th>shes</th>\n",
       "      <td>0.004570</td>\n",
       "      <td>0.002720</td>\n",
       "      <td>0.001259</td>\n",
       "    </tr>\n",
       "    <tr>\n",
       "      <th>believe</th>\n",
       "      <td>0.007308</td>\n",
       "      <td>0.004935</td>\n",
       "      <td>0.001141</td>\n",
       "    </tr>\n",
       "    <tr>\n",
       "      <th>doesnt</th>\n",
       "      <td>0.005242</td>\n",
       "      <td>0.003473</td>\n",
       "      <td>0.000901</td>\n",
       "    </tr>\n",
       "    <tr>\n",
       "      <th>we</th>\n",
       "      <td>0.008703</td>\n",
       "      <td>0.006441</td>\n",
       "      <td>0.000794</td>\n",
       "    </tr>\n",
       "    <tr>\n",
       "      <th>going</th>\n",
       "      <td>0.004307</td>\n",
       "      <td>0.002865</td>\n",
       "      <td>0.000726</td>\n",
       "    </tr>\n",
       "    <tr>\n",
       "      <th>die</th>\n",
       "      <td>0.002877</td>\n",
       "      <td>0.001788</td>\n",
       "      <td>0.000663</td>\n",
       "    </tr>\n",
       "    <tr>\n",
       "      <th>stephenschlegel</th>\n",
       "      <td>0.002241</td>\n",
       "      <td>0.001313</td>\n",
       "      <td>0.000656</td>\n",
       "    </tr>\n",
       "    <tr>\n",
       "      <th>husband</th>\n",
       "      <td>0.002278</td>\n",
       "      <td>0.001356</td>\n",
       "      <td>0.000627</td>\n",
       "    </tr>\n",
       "    <tr>\n",
       "      <th>thinking</th>\n",
       "      <td>0.002460</td>\n",
       "      <td>0.001510</td>\n",
       "      <td>0.000599</td>\n",
       "    </tr>\n",
       "    <tr>\n",
       "      <th>sensanders</th>\n",
       "      <td>0.001818</td>\n",
       "      <td>0.001103</td>\n",
       "      <td>0.000463</td>\n",
       "    </tr>\n",
       "  </tbody>\n",
       "</table>\n",
       "</div>"
      ],
      "text/plain": [
       "                   1_perc  all_perc    1_chi2\n",
       "Word                                         \n",
       "shes             0.004570  0.002720  0.001259\n",
       "believe          0.007308  0.004935  0.001141\n",
       "doesnt           0.005242  0.003473  0.000901\n",
       "we               0.008703  0.006441  0.000794\n",
       "going            0.004307  0.002865  0.000726\n",
       "die              0.002877  0.001788  0.000663\n",
       "stephenschlegel  0.002241  0.001313  0.000656\n",
       "husband          0.002278  0.001356  0.000627\n",
       "thinking         0.002460  0.001510  0.000599\n",
       "sensanders       0.001818  0.001103  0.000463"
      ]
     },
     "execution_count": 416,
     "metadata": {},
     "output_type": "execute_result"
    }
   ],
   "source": [
    "df_bow[['1_perc', 'all_perc', '1_chi2']][df_bow['1_perc'] > df_bow['all_perc']].sort_values(by='1_chi2', ascending=False).head(10)"
   ]
  },
  {
   "cell_type": "code",
   "execution_count": 417,
   "id": "70afa03d",
   "metadata": {},
   "outputs": [
    {
     "data": {
      "text/html": [
       "<div>\n",
       "<style scoped>\n",
       "    .dataframe tbody tr th:only-of-type {\n",
       "        vertical-align: middle;\n",
       "    }\n",
       "\n",
       "    .dataframe tbody tr th {\n",
       "        vertical-align: top;\n",
       "    }\n",
       "\n",
       "    .dataframe thead th {\n",
       "        text-align: right;\n",
       "    }\n",
       "</style>\n",
       "<table border=\"1\" class=\"dataframe\">\n",
       "  <thead>\n",
       "    <tr style=\"text-align: right;\">\n",
       "      <th></th>\n",
       "      <th>2_perc</th>\n",
       "      <th>all_perc</th>\n",
       "      <th>2_chi2</th>\n",
       "    </tr>\n",
       "    <tr>\n",
       "      <th>Word</th>\n",
       "      <th></th>\n",
       "      <th></th>\n",
       "      <th></th>\n",
       "    </tr>\n",
       "  </thead>\n",
       "  <tbody>\n",
       "    <tr>\n",
       "      <th>urlweb</th>\n",
       "      <td>0.077277</td>\n",
       "      <td>0.034334</td>\n",
       "      <td>0.053710</td>\n",
       "    </tr>\n",
       "    <tr>\n",
       "      <th>trump</th>\n",
       "      <td>0.017620</td>\n",
       "      <td>0.008276</td>\n",
       "      <td>0.010552</td>\n",
       "    </tr>\n",
       "    <tr>\n",
       "      <th>via</th>\n",
       "      <td>0.006157</td>\n",
       "      <td>0.002207</td>\n",
       "      <td>0.007072</td>\n",
       "    </tr>\n",
       "    <tr>\n",
       "      <th>says</th>\n",
       "      <td>0.005113</td>\n",
       "      <td>0.001835</td>\n",
       "      <td>0.005859</td>\n",
       "    </tr>\n",
       "    <tr>\n",
       "      <th>climate</th>\n",
       "      <td>0.070885</td>\n",
       "      <td>0.055158</td>\n",
       "      <td>0.004484</td>\n",
       "    </tr>\n",
       "    <tr>\n",
       "      <th>thehill</th>\n",
       "      <td>0.001747</td>\n",
       "      <td>0.000411</td>\n",
       "      <td>0.004351</td>\n",
       "    </tr>\n",
       "    <tr>\n",
       "      <th>reuters</th>\n",
       "      <td>0.001428</td>\n",
       "      <td>0.000299</td>\n",
       "      <td>0.004251</td>\n",
       "    </tr>\n",
       "    <tr>\n",
       "      <th>change</th>\n",
       "      <td>0.066880</td>\n",
       "      <td>0.052228</td>\n",
       "      <td>0.004110</td>\n",
       "    </tr>\n",
       "    <tr>\n",
       "      <th>study</th>\n",
       "      <td>0.002067</td>\n",
       "      <td>0.000620</td>\n",
       "      <td>0.003374</td>\n",
       "    </tr>\n",
       "    <tr>\n",
       "      <th>epa</th>\n",
       "      <td>0.005113</td>\n",
       "      <td>0.002365</td>\n",
       "      <td>0.003194</td>\n",
       "    </tr>\n",
       "  </tbody>\n",
       "</table>\n",
       "</div>"
      ],
      "text/plain": [
       "           2_perc  all_perc    2_chi2\n",
       "Word                                 \n",
       "urlweb   0.077277  0.034334  0.053710\n",
       "trump    0.017620  0.008276  0.010552\n",
       "via      0.006157  0.002207  0.007072\n",
       "says     0.005113  0.001835  0.005859\n",
       "climate  0.070885  0.055158  0.004484\n",
       "thehill  0.001747  0.000411  0.004351\n",
       "reuters  0.001428  0.000299  0.004251\n",
       "change   0.066880  0.052228  0.004110\n",
       "study    0.002067  0.000620  0.003374\n",
       "epa      0.005113  0.002365  0.003194"
      ]
     },
     "execution_count": 417,
     "metadata": {},
     "output_type": "execute_result"
    }
   ],
   "source": [
    "df_bow[['2_perc', 'all_perc', '2_chi2']][df_bow['2_perc'] > df_bow['all_perc']].sort_values(by='2_chi2', ascending=False).head(10)"
   ]
  },
  {
   "cell_type": "code",
   "execution_count": 418,
   "id": "01d71096",
   "metadata": {},
   "outputs": [
    {
     "data": {
      "text/html": [
       "<div>\n",
       "<style scoped>\n",
       "    .dataframe tbody tr th:only-of-type {\n",
       "        vertical-align: middle;\n",
       "    }\n",
       "\n",
       "    .dataframe tbody tr th {\n",
       "        vertical-align: top;\n",
       "    }\n",
       "\n",
       "    .dataframe thead th {\n",
       "        text-align: right;\n",
       "    }\n",
       "</style>\n",
       "<table border=\"1\" class=\"dataframe\">\n",
       "  <thead>\n",
       "    <tr style=\"text-align: right;\">\n",
       "      <th></th>\n",
       "      <th>0_perc</th>\n",
       "      <th>all_perc</th>\n",
       "      <th>0_chi2</th>\n",
       "    </tr>\n",
       "    <tr>\n",
       "      <th>Word</th>\n",
       "      <th></th>\n",
       "      <th></th>\n",
       "      <th></th>\n",
       "    </tr>\n",
       "  </thead>\n",
       "  <tbody>\n",
       "    <tr>\n",
       "      <th>warming</th>\n",
       "      <td>0.032183</td>\n",
       "      <td>0.014597</td>\n",
       "      <td>0.021188</td>\n",
       "    </tr>\n",
       "    <tr>\n",
       "      <th>global</th>\n",
       "      <td>0.033954</td>\n",
       "      <td>0.016098</td>\n",
       "      <td>0.019808</td>\n",
       "    </tr>\n",
       "    <tr>\n",
       "      <th>penguin</th>\n",
       "      <td>0.002756</td>\n",
       "      <td>0.000385</td>\n",
       "      <td>0.014603</td>\n",
       "    </tr>\n",
       "    <tr>\n",
       "      <th>i</th>\n",
       "      <td>0.011548</td>\n",
       "      <td>0.005017</td>\n",
       "      <td>0.008503</td>\n",
       "    </tr>\n",
       "    <tr>\n",
       "      <th>club</th>\n",
       "      <td>0.001443</td>\n",
       "      <td>0.000210</td>\n",
       "      <td>0.007265</td>\n",
       "    </tr>\n",
       "    <tr>\n",
       "      <th>my</th>\n",
       "      <td>0.004396</td>\n",
       "      <td>0.001424</td>\n",
       "      <td>0.006201</td>\n",
       "    </tr>\n",
       "    <tr>\n",
       "      <th>hes</th>\n",
       "      <td>0.002526</td>\n",
       "      <td>0.000710</td>\n",
       "      <td>0.004646</td>\n",
       "    </tr>\n",
       "    <tr>\n",
       "      <th>interviewer</th>\n",
       "      <td>0.000689</td>\n",
       "      <td>0.000090</td>\n",
       "      <td>0.003997</td>\n",
       "    </tr>\n",
       "    <tr>\n",
       "      <th>melania</th>\n",
       "      <td>0.000722</td>\n",
       "      <td>0.000098</td>\n",
       "      <td>0.003950</td>\n",
       "    </tr>\n",
       "    <tr>\n",
       "      <th>me</th>\n",
       "      <td>0.003510</td>\n",
       "      <td>0.001270</td>\n",
       "      <td>0.003950</td>\n",
       "    </tr>\n",
       "  </tbody>\n",
       "</table>\n",
       "</div>"
      ],
      "text/plain": [
       "               0_perc  all_perc    0_chi2\n",
       "Word                                     \n",
       "warming      0.032183  0.014597  0.021188\n",
       "global       0.033954  0.016098  0.019808\n",
       "penguin      0.002756  0.000385  0.014603\n",
       "i            0.011548  0.005017  0.008503\n",
       "club         0.001443  0.000210  0.007265\n",
       "my           0.004396  0.001424  0.006201\n",
       "hes          0.002526  0.000710  0.004646\n",
       "interviewer  0.000689  0.000090  0.003997\n",
       "melania      0.000722  0.000098  0.003950\n",
       "me           0.003510  0.001270  0.003950"
      ]
     },
     "execution_count": 418,
     "metadata": {},
     "output_type": "execute_result"
    }
   ],
   "source": [
    "df_bow[['0_perc', 'all_perc', '0_chi2']][df_bow['0_perc'] > df_bow['all_perc']].sort_values(by='0_chi2', ascending=False).head(10)"
   ]
  },
  {
   "cell_type": "code",
   "execution_count": 419,
   "id": "bc515f01",
   "metadata": {},
   "outputs": [
    {
     "data": {
      "text/html": [
       "<div>\n",
       "<style scoped>\n",
       "    .dataframe tbody tr th:only-of-type {\n",
       "        vertical-align: middle;\n",
       "    }\n",
       "\n",
       "    .dataframe tbody tr th {\n",
       "        vertical-align: top;\n",
       "    }\n",
       "\n",
       "    .dataframe thead th {\n",
       "        text-align: right;\n",
       "    }\n",
       "</style>\n",
       "<table border=\"1\" class=\"dataframe\">\n",
       "  <thead>\n",
       "    <tr style=\"text-align: right;\">\n",
       "      <th></th>\n",
       "      <th>-1_perc</th>\n",
       "      <th>all_perc</th>\n",
       "      <th>-1_chi2</th>\n",
       "    </tr>\n",
       "    <tr>\n",
       "      <th>Word</th>\n",
       "      <th></th>\n",
       "      <th></th>\n",
       "      <th></th>\n",
       "    </tr>\n",
       "  </thead>\n",
       "  <tbody>\n",
       "    <tr>\n",
       "      <th>scam</th>\n",
       "      <td>0.002522</td>\n",
       "      <td>0.000227</td>\n",
       "      <td>0.023235</td>\n",
       "    </tr>\n",
       "    <tr>\n",
       "      <th>stevesgoddard</th>\n",
       "      <td>0.002264</td>\n",
       "      <td>0.000197</td>\n",
       "      <td>0.021729</td>\n",
       "    </tr>\n",
       "    <tr>\n",
       "      <th>warming</th>\n",
       "      <td>0.030723</td>\n",
       "      <td>0.014597</td>\n",
       "      <td>0.017815</td>\n",
       "    </tr>\n",
       "    <tr>\n",
       "      <th>global</th>\n",
       "      <td>0.032524</td>\n",
       "      <td>0.016098</td>\n",
       "      <td>0.016760</td>\n",
       "    </tr>\n",
       "    <tr>\n",
       "      <th>noncompetitive</th>\n",
       "      <td>0.001184</td>\n",
       "      <td>0.000098</td>\n",
       "      <td>0.011973</td>\n",
       "    </tr>\n",
       "    <tr>\n",
       "      <th>liberals</th>\n",
       "      <td>0.001544</td>\n",
       "      <td>0.000163</td>\n",
       "      <td>0.011741</td>\n",
       "    </tr>\n",
       "    <tr>\n",
       "      <th>alarmists</th>\n",
       "      <td>0.001081</td>\n",
       "      <td>0.000090</td>\n",
       "      <td>0.010932</td>\n",
       "    </tr>\n",
       "    <tr>\n",
       "      <th>tax</th>\n",
       "      <td>0.001595</td>\n",
       "      <td>0.000197</td>\n",
       "      <td>0.009942</td>\n",
       "    </tr>\n",
       "    <tr>\n",
       "      <th>manipulated</th>\n",
       "      <td>0.001235</td>\n",
       "      <td>0.000128</td>\n",
       "      <td>0.009547</td>\n",
       "    </tr>\n",
       "    <tr>\n",
       "      <th>prisonplanet</th>\n",
       "      <td>0.001029</td>\n",
       "      <td>0.000094</td>\n",
       "      <td>0.009294</td>\n",
       "    </tr>\n",
       "  </tbody>\n",
       "</table>\n",
       "</div>"
      ],
      "text/plain": [
       "                 -1_perc  all_perc   -1_chi2\n",
       "Word                                        \n",
       "scam            0.002522  0.000227  0.023235\n",
       "stevesgoddard   0.002264  0.000197  0.021729\n",
       "warming         0.030723  0.014597  0.017815\n",
       "global          0.032524  0.016098  0.016760\n",
       "noncompetitive  0.001184  0.000098  0.011973\n",
       "liberals        0.001544  0.000163  0.011741\n",
       "alarmists       0.001081  0.000090  0.010932\n",
       "tax             0.001595  0.000197  0.009942\n",
       "manipulated     0.001235  0.000128  0.009547\n",
       "prisonplanet    0.001029  0.000094  0.009294"
      ]
     },
     "execution_count": 419,
     "metadata": {},
     "output_type": "execute_result"
    }
   ],
   "source": [
    "df_bow[['-1_perc', 'all_perc', '-1_chi2']][df_bow['-1_perc'] > df_bow['all_perc']].sort_values(by='-1_chi2', ascending=False).head(10)"
   ]
  },
  {
   "cell_type": "code",
   "execution_count": 420,
   "id": "9866435d",
   "metadata": {},
   "outputs": [
    {
     "data": {
      "text/plain": [
       "CountVectorizer()"
      ]
     },
     "execution_count": 420,
     "metadata": {},
     "output_type": "execute_result"
    }
   ],
   "source": [
    "vect = CountVectorizer()\n",
    "vect.fit(all_msg['message'])"
   ]
  },
  {
   "cell_type": "code",
   "execution_count": 421,
   "id": "47bdb2ba",
   "metadata": {},
   "outputs": [
    {
     "data": {
      "text/html": [
       "<div>\n",
       "<style scoped>\n",
       "    .dataframe tbody tr th:only-of-type {\n",
       "        vertical-align: middle;\n",
       "    }\n",
       "\n",
       "    .dataframe tbody tr th {\n",
       "        vertical-align: top;\n",
       "    }\n",
       "\n",
       "    .dataframe thead th {\n",
       "        text-align: right;\n",
       "    }\n",
       "</style>\n",
       "<table border=\"1\" class=\"dataframe\">\n",
       "  <thead>\n",
       "    <tr style=\"text-align: right;\">\n",
       "      <th></th>\n",
       "      <th>sentiment</th>\n",
       "      <th>message</th>\n",
       "      <th>tweetid</th>\n",
       "      <th>tokens</th>\n",
       "      <th>stem</th>\n",
       "      <th>lemma</th>\n",
       "    </tr>\n",
       "  </thead>\n",
       "  <tbody>\n",
       "    <tr>\n",
       "      <th>0</th>\n",
       "      <td>1</td>\n",
       "      <td>polyscimajor epa chief doesnt think carbon dio...</td>\n",
       "      <td>625221</td>\n",
       "      <td>[polyscimajor, epa, chief, doesnt, think, carb...</td>\n",
       "      <td>[polyscimajor, epa, chief, doesnt, think, carb...</td>\n",
       "      <td>[polyscimajor, epa, chief, doesnt, think, carb...</td>\n",
       "    </tr>\n",
       "    <tr>\n",
       "      <th>1</th>\n",
       "      <td>1</td>\n",
       "      <td>its not like we lack evidence of anthropogenic...</td>\n",
       "      <td>126103</td>\n",
       "      <td>[its, not, like, we, lack, evidence, of, anthr...</td>\n",
       "      <td>[it, not, like, we, lack, evid, of, anthropoge...</td>\n",
       "      <td>[it, not, like, we, lack, evidence, of, anthro...</td>\n",
       "    </tr>\n",
       "    <tr>\n",
       "      <th>2</th>\n",
       "      <td>2</td>\n",
       "      <td>rt rawstory researchers say we have three year...</td>\n",
       "      <td>698562</td>\n",
       "      <td>[rt, rawstory, researchers, say, we, have, thr...</td>\n",
       "      <td>[rt, rawstori, research, say, we, have, three,...</td>\n",
       "      <td>[rt, rawstory, researcher, say, we, have, thre...</td>\n",
       "    </tr>\n",
       "    <tr>\n",
       "      <th>3</th>\n",
       "      <td>1</td>\n",
       "      <td>todayinmaker wired  2016 was a pivotal year in...</td>\n",
       "      <td>573736</td>\n",
       "      <td>[todayinmaker, wired, 2016, was, a, pivotal, y...</td>\n",
       "      <td>[todayinmak, wire, 2016, was, a, pivot, year, ...</td>\n",
       "      <td>[todayinmaker, wired, 2016, wa, a, pivotal, ye...</td>\n",
       "    </tr>\n",
       "    <tr>\n",
       "      <th>4</th>\n",
       "      <td>1</td>\n",
       "      <td>rt soynoviodetodas its 2016 and a racist sexis...</td>\n",
       "      <td>466954</td>\n",
       "      <td>[rt, soynoviodetodas, its, 2016, and, a, racis...</td>\n",
       "      <td>[rt, soynoviodetoda, it, 2016, and, a, racist,...</td>\n",
       "      <td>[rt, soynoviodetodas, it, 2016, and, a, racist...</td>\n",
       "    </tr>\n",
       "  </tbody>\n",
       "</table>\n",
       "</div>"
      ],
      "text/plain": [
       "   sentiment                                            message  tweetid  \\\n",
       "0          1  polyscimajor epa chief doesnt think carbon dio...   625221   \n",
       "1          1  its not like we lack evidence of anthropogenic...   126103   \n",
       "2          2  rt rawstory researchers say we have three year...   698562   \n",
       "3          1  todayinmaker wired  2016 was a pivotal year in...   573736   \n",
       "4          1  rt soynoviodetodas its 2016 and a racist sexis...   466954   \n",
       "\n",
       "                                              tokens  \\\n",
       "0  [polyscimajor, epa, chief, doesnt, think, carb...   \n",
       "1  [its, not, like, we, lack, evidence, of, anthr...   \n",
       "2  [rt, rawstory, researchers, say, we, have, thr...   \n",
       "3  [todayinmaker, wired, 2016, was, a, pivotal, y...   \n",
       "4  [rt, soynoviodetodas, its, 2016, and, a, racis...   \n",
       "\n",
       "                                                stem  \\\n",
       "0  [polyscimajor, epa, chief, doesnt, think, carb...   \n",
       "1  [it, not, like, we, lack, evid, of, anthropoge...   \n",
       "2  [rt, rawstori, research, say, we, have, three,...   \n",
       "3  [todayinmak, wire, 2016, was, a, pivot, year, ...   \n",
       "4  [rt, soynoviodetoda, it, 2016, and, a, racist,...   \n",
       "\n",
       "                                               lemma  \n",
       "0  [polyscimajor, epa, chief, doesnt, think, carb...  \n",
       "1  [it, not, like, we, lack, evidence, of, anthro...  \n",
       "2  [rt, rawstory, researcher, say, we, have, thre...  \n",
       "3  [todayinmaker, wired, 2016, wa, a, pivotal, ye...  \n",
       "4  [rt, soynoviodetodas, it, 2016, and, a, racist...  "
      ]
     },
     "execution_count": 421,
     "metadata": {},
     "output_type": "execute_result"
    }
   ],
   "source": [
    "all_msg.head()"
   ]
  },
  {
   "cell_type": "code",
   "execution_count": 422,
   "id": "d76e68cc",
   "metadata": {},
   "outputs": [],
   "source": [
    "# remove English stop words\n",
    "vect = CountVectorizer(stop_words='english')"
   ]
  },
  {
   "cell_type": "code",
   "execution_count": 423,
   "id": "c3e04c75",
   "metadata": {},
   "outputs": [],
   "source": [
    "# include 1-grams and 2-grams\n",
    "vect = CountVectorizer(ngram_range=(1, 2))"
   ]
  },
  {
   "cell_type": "code",
   "execution_count": 424,
   "id": "bb2a1e47",
   "metadata": {},
   "outputs": [],
   "source": [
    "# ignore terms that appear in more than 50% of the documents\n",
    "vect = CountVectorizer(max_df=0.5)"
   ]
  },
  {
   "cell_type": "code",
   "execution_count": 425,
   "id": "593fd7e4",
   "metadata": {},
   "outputs": [],
   "source": [
    "# only keep terms that appear in at least 2 documents\n",
    "vect = CountVectorizer(min_df=2)"
   ]
  },
  {
   "cell_type": "code",
   "execution_count": 438,
   "id": "81d061d8",
   "metadata": {},
   "outputs": [],
   "source": [
    "betterVect = CountVectorizer(stop_words='english', \n",
    "                             min_df=2, \n",
    "                             max_df=0.5, \n",
    "                             ngram_range=(1, 2))"
   ]
  },
  {
   "cell_type": "code",
   "execution_count": 427,
   "id": "988793ff",
   "metadata": {},
   "outputs": [],
   "source": [
    "df_test['message'] = df_test['message'].replace(to_replace = pattern_url, value = subs_url, regex = True)\n",
    "df_test['message'] = df_test['message'].str.lower()\n",
    "df_test['message'] = df_test['message'].apply(remove_punctuation)"
   ]
  },
  {
   "cell_type": "code",
   "execution_count": 430,
   "id": "aab25405",
   "metadata": {},
   "outputs": [],
   "source": [
    "df_test['tokens'] = df_test['message'].apply(tokeniser.tokenize)"
   ]
  },
  {
   "cell_type": "code",
   "execution_count": 431,
   "id": "fbdb49dc",
   "metadata": {},
   "outputs": [],
   "source": [
    "df_test['new_msg'] = df_test['tokens'].apply(remove_stop_words)"
   ]
  },
  {
   "cell_type": "code",
   "execution_count": 432,
   "id": "1e43ae33",
   "metadata": {},
   "outputs": [],
   "source": [
    "df_test['new_msg_2'] = [' '.join(map(str, l)) for l in df_test['new_msg']]"
   ]
  },
  {
   "cell_type": "code",
   "execution_count": 439,
   "id": "0561d5b4",
   "metadata": {},
   "outputs": [],
   "source": [
    "X_train = betterVect.fit_transform(all_msg['message'])\n",
    "X_test = betterVect.transform(df_test['message'])"
   ]
  },
  {
   "cell_type": "code",
   "execution_count": 435,
   "id": "7697fa1a",
   "metadata": {},
   "outputs": [],
   "source": [
    "y_train = df.sentiment"
   ]
  },
  {
   "cell_type": "code",
   "execution_count": 433,
   "id": "a55f9c96",
   "metadata": {},
   "outputs": [
    {
     "data": {
      "text/html": [
       "<div>\n",
       "<style scoped>\n",
       "    .dataframe tbody tr th:only-of-type {\n",
       "        vertical-align: middle;\n",
       "    }\n",
       "\n",
       "    .dataframe tbody tr th {\n",
       "        vertical-align: top;\n",
       "    }\n",
       "\n",
       "    .dataframe thead th {\n",
       "        text-align: right;\n",
       "    }\n",
       "</style>\n",
       "<table border=\"1\" class=\"dataframe\">\n",
       "  <thead>\n",
       "    <tr style=\"text-align: right;\">\n",
       "      <th></th>\n",
       "      <th>message</th>\n",
       "      <th>tweetid</th>\n",
       "      <th>tokens</th>\n",
       "      <th>new_msg</th>\n",
       "      <th>new_msg_2</th>\n",
       "    </tr>\n",
       "  </thead>\n",
       "  <tbody>\n",
       "    <tr>\n",
       "      <th>0</th>\n",
       "      <td>europe will now be looking to china to make su...</td>\n",
       "      <td>169760</td>\n",
       "      <td>[europe, will, now, be, looking, to, china, to...</td>\n",
       "      <td>[europe, looking, china, make, sure, alone, fi...</td>\n",
       "      <td>europe looking china make sure alone fighting ...</td>\n",
       "    </tr>\n",
       "    <tr>\n",
       "      <th>1</th>\n",
       "      <td>combine this with the polling of staffers re c...</td>\n",
       "      <td>35326</td>\n",
       "      <td>[combine, this, with, the, polling, of, staffe...</td>\n",
       "      <td>[combine, polling, staffers, climate, change, ...</td>\n",
       "      <td>combine polling staffers climate change womens...</td>\n",
       "    </tr>\n",
       "    <tr>\n",
       "      <th>2</th>\n",
       "      <td>the scary unimpeachable evidence that climate ...</td>\n",
       "      <td>224985</td>\n",
       "      <td>[the, scary, unimpeachable, evidence, that, cl...</td>\n",
       "      <td>[scary, unimpeachable, evidence, climate, chan...</td>\n",
       "      <td>scary unimpeachable evidence climate change al...</td>\n",
       "    </tr>\n",
       "    <tr>\n",
       "      <th>3</th>\n",
       "      <td>karoli morgfair osborneink dailykos \\nputin go...</td>\n",
       "      <td>476263</td>\n",
       "      <td>[karoli, morgfair, osborneink, dailykos, putin...</td>\n",
       "      <td>[karoli, morgfair, osborneink, dailykos, putin...</td>\n",
       "      <td>karoli morgfair osborneink dailykos putin got ...</td>\n",
       "    </tr>\n",
       "    <tr>\n",
       "      <th>4</th>\n",
       "      <td>rt fakewillmoore female orgasms cause global w...</td>\n",
       "      <td>872928</td>\n",
       "      <td>[rt, fakewillmoore, female, orgasms, cause, gl...</td>\n",
       "      <td>[rt, fakewillmoore, female, orgasms, cause, gl...</td>\n",
       "      <td>rt fakewillmoore female orgasms cause global w...</td>\n",
       "    </tr>\n",
       "  </tbody>\n",
       "</table>\n",
       "</div>"
      ],
      "text/plain": [
       "                                             message  tweetid  \\\n",
       "0  europe will now be looking to china to make su...   169760   \n",
       "1  combine this with the polling of staffers re c...    35326   \n",
       "2  the scary unimpeachable evidence that climate ...   224985   \n",
       "3  karoli morgfair osborneink dailykos \\nputin go...   476263   \n",
       "4  rt fakewillmoore female orgasms cause global w...   872928   \n",
       "\n",
       "                                              tokens  \\\n",
       "0  [europe, will, now, be, looking, to, china, to...   \n",
       "1  [combine, this, with, the, polling, of, staffe...   \n",
       "2  [the, scary, unimpeachable, evidence, that, cl...   \n",
       "3  [karoli, morgfair, osborneink, dailykos, putin...   \n",
       "4  [rt, fakewillmoore, female, orgasms, cause, gl...   \n",
       "\n",
       "                                             new_msg  \\\n",
       "0  [europe, looking, china, make, sure, alone, fi...   \n",
       "1  [combine, polling, staffers, climate, change, ...   \n",
       "2  [scary, unimpeachable, evidence, climate, chan...   \n",
       "3  [karoli, morgfair, osborneink, dailykos, putin...   \n",
       "4  [rt, fakewillmoore, female, orgasms, cause, gl...   \n",
       "\n",
       "                                           new_msg_2  \n",
       "0  europe looking china make sure alone fighting ...  \n",
       "1  combine polling staffers climate change womens...  \n",
       "2  scary unimpeachable evidence climate change al...  \n",
       "3  karoli morgfair osborneink dailykos putin got ...  \n",
       "4  rt fakewillmoore female orgasms cause global w...  "
      ]
     },
     "execution_count": 433,
     "metadata": {},
     "output_type": "execute_result"
    }
   ],
   "source": [
    "df_test.head()"
   ]
  },
  {
   "cell_type": "markdown",
   "id": "da593a37",
   "metadata": {},
   "source": [
    "<a id=\"five\"></a>\n",
    "## 5. Modelling\n",
    "<a class=\"anchor\" id=\"1.1\"></a>\n",
    "<a href=#cont>Back to Table of Contents</a>\n",
    "\n",
    "---\n",
    "    \n",
    "| ⚡ Description: Modelling ⚡ |\n",
    "| :--------------------------- |\n",
    "| In this section, you are required to create one or more classification models that is/are able to classify whether or not a person believes in climate change, based on their novel tweet data.\n",
    "\n",
    "---"
   ]
  },
  {
   "cell_type": "code",
   "execution_count": 233,
   "id": "530ee9f0",
   "metadata": {},
   "outputs": [
    {
     "name": "stderr",
     "output_type": "stream",
     "text": [
      "C:\\Users\\shola\\anaconda3\\lib\\site-packages\\sklearn\\linear_model\\_logistic.py:763: ConvergenceWarning: lbfgs failed to converge (status=1):\n",
      "STOP: TOTAL NO. of ITERATIONS REACHED LIMIT.\n",
      "\n",
      "Increase the number of iterations (max_iter) or scale the data as shown in:\n",
      "    https://scikit-learn.org/stable/modules/preprocessing.html\n",
      "Please also refer to the documentation for alternative solver options:\n",
      "    https://scikit-learn.org/stable/modules/linear_model.html#logistic-regression\n",
      "  n_iter_i = _check_optimize_result(\n"
     ]
    },
    {
     "data": {
      "text/plain": [
       "0.9840697894936469"
      ]
     },
     "execution_count": 233,
     "metadata": {},
     "output_type": "execute_result"
    }
   ],
   "source": [
    "logreg = LogisticRegression()\n",
    "logreg.fit(X_train, y_train)\n",
    "logreg.score(X_train, y_train)"
   ]
  },
  {
   "cell_type": "code",
   "execution_count": 214,
   "id": "a1b41ea0",
   "metadata": {},
   "outputs": [
    {
     "data": {
      "text/plain": [
       "0.6332890827485934"
      ]
     },
     "execution_count": 214,
     "metadata": {},
     "output_type": "execute_result"
    }
   ],
   "source": [
    "AdBoost = AdaBoostClassifier()\n",
    "AdBoost.fit(X_train, y_train)\n",
    "AdBoost.score(X_train, y_train)"
   ]
  },
  {
   "cell_type": "code",
   "execution_count": 215,
   "id": "1dabb687",
   "metadata": {},
   "outputs": [
    {
     "data": {
      "text/plain": [
       "0.9975978253998357"
      ]
     },
     "execution_count": 215,
     "metadata": {},
     "output_type": "execute_result"
    }
   ],
   "source": [
    "RF = RandomForestClassifier()\n",
    "RF.fit(X_train, y_train)\n",
    "RF.score(X_train, y_train)"
   ]
  },
  {
   "cell_type": "code",
   "execution_count": 225,
   "id": "ad08db26",
   "metadata": {},
   "outputs": [
    {
     "data": {
      "text/plain": [
       "0.9205385928314053"
      ]
     },
     "execution_count": 225,
     "metadata": {},
     "output_type": "execute_result"
    }
   ],
   "source": [
    "GNB = GaussianNB()\n",
    "GNB.fit(X_train.toarray() , y_train)\n",
    "GNB.score(X_train.toarray(), y_train)"
   ]
  },
  {
   "cell_type": "code",
   "execution_count": 440,
   "id": "7c232998",
   "metadata": {},
   "outputs": [
    {
     "data": {
      "text/plain": [
       "0.8719261647386055"
      ]
     },
     "execution_count": 440,
     "metadata": {},
     "output_type": "execute_result"
    }
   ],
   "source": [
    "MNB = MultinomialNB()\n",
    "MNB.fit(X_train, y_train)\n",
    "MNB.score(X_train, y_train)"
   ]
  },
  {
   "cell_type": "code",
   "execution_count": 444,
   "id": "aeaf725d",
   "metadata": {},
   "outputs": [
    {
     "data": {
      "text/plain": [
       "KNeighborsClassifier(n_neighbors=3)"
      ]
     },
     "execution_count": 444,
     "metadata": {},
     "output_type": "execute_result"
    }
   ],
   "source": [
    "n_neighbors = 3 # <--- change this number to play around with how many nearest neighbours to look for.\n",
    "\n",
    "knn = KNeighborsClassifier(n_neighbors)\n",
    "# Fit the model \n",
    "knn.fit(X_train, y_train)"
   ]
  },
  {
   "cell_type": "code",
   "execution_count": 447,
   "id": "020f4f77",
   "metadata": {},
   "outputs": [],
   "source": [
    "predictions = knn.predict(X_test)\n",
    "\n",
    "\n",
    "df_CSV = pd.DataFrame({\"tweetid\": df_test['tweetid'].values,\n",
    "                   \"sentiment\": predictions,\n",
    "                  })\n",
    "\n",
    "df_CSV.to_csv(\"Team6_knn.csv\", index=False)"
   ]
  },
  {
   "cell_type": "markdown",
   "id": "19527c0f",
   "metadata": {},
   "source": [
    "<a id=\"six\"></a>\n",
    "## 6. Model Performance\n",
    "<a class=\"anchor\" id=\"1.1\"></a>\n",
    "<a href=#cont>Back to Table of Contents</a>\n",
    "\n",
    "---\n",
    "    \n",
    "| ⚡ Description: Model performance ⚡ |\n",
    "| :--------------------------- |\n",
    "| In this section you are required to compare the relative performance of the various trained ML models on a holdout dataset and comment on what model is the best and why. |\n",
    "\n",
    "---"
   ]
  },
  {
   "cell_type": "markdown",
   "id": "fd378be9",
   "metadata": {},
   "source": [
    "<a id=\"seven\"></a>\n",
    "## 7. Model Explanations\n",
    "<a class=\"anchor\" id=\"1.1\"></a>\n",
    "<a href=#cont>Back to Table of Contents</a>\n",
    "\n",
    "---\n",
    "    \n",
    "| ⚡ Description: Model explanation ⚡ |\n",
    "| :--------------------------- |\n",
    "| In this section, you are required to discuss how the best performing model works in a simple way so that both technical and non-technical stakeholders can grasp the intuition behind the model's inner workings. |\n",
    "\n",
    "---"
   ]
  },
  {
   "cell_type": "code",
   "execution_count": null,
   "id": "adbf9c3d",
   "metadata": {},
   "outputs": [],
   "source": []
  }
 ],
 "metadata": {
  "kernelspec": {
   "display_name": "Python 3",
   "language": "python",
   "name": "python3"
  },
  "language_info": {
   "codemirror_mode": {
    "name": "ipython",
    "version": 3
   },
   "file_extension": ".py",
   "mimetype": "text/x-python",
   "name": "python",
   "nbconvert_exporter": "python",
   "pygments_lexer": "ipython3",
   "version": "3.8.8"
  }
 },
 "nbformat": 4,
 "nbformat_minor": 5
}
