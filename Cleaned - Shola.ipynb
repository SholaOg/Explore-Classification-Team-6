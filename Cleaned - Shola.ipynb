{
 "cells": [
  {
   "cell_type": "markdown",
   "id": "36791769",
   "metadata": {},
   "source": [
    "# Classification Predict Student Solution\n",
    "\n",
    "© Explore Data Science Academy\n",
    "\n",
    "---\n",
    "### Honour Code\n",
    "\n",
    "We, **Team 6**, confirm - by submitting this document - that the solutions in this notebook are a result of my own work and that I abide by the [EDSA honour code](https://drive.google.com/file/d/1QDCjGZJ8-FmJE3bZdIQNwnJyQKPhHZBn/view?usp=sharing).\n",
    "\n",
    "Non-compliance with the honour code constitutes a material breach of contract.\n",
    "\n",
    "### Predict Overview: EDSA - Climate Change Belief Analysis 2022\n",
    "\n",
    "The impact of climate change is becoming more evident on a global scale. However, for reasons best known to various individuals and groups, they seem to doubt the authenticity of the claims by weather and climate expert about climate change. For example, many places have experienced changes in rainfall, resulting in more floods, droughts, or intense rain, as well as more frequent and severe heat waves. The planet's oceans and glaciers have also experienced changes—oceans are warming and becoming more acidic, ice caps are melting, and sea level is rising. \n",
    "\n",
    "Therefore,there is a need for us as humans to be attentive and thougthful about how we approach the issue of climate change and its adverse effect on our planet. As a team, we intend to determine the level of awareness as well as the sentiment of Twitter users about the subject of climate change.\n",
    "\n",
    "\n"
   ]
  },
  {
   "cell_type": "markdown",
   "id": "6cdeefd9",
   "metadata": {},
   "source": [
    "<a id=\"cont\"></a>\n",
    "\n",
    "## Table of Contents\n",
    "\n",
    "<a href=#one>1. Importing Packages</a>\n",
    "\n",
    "<a href=#two>2. Loading Data</a>\n",
    "\n",
    "<a href=#three>3. Exploratory Data Analysis (EDA)</a>\n",
    "\n",
    "<a href=#four>4. Data Engineering</a>\n",
    "\n",
    "<a href=#five>5. Modeling</a>\n",
    "\n",
    "<a href=#six>6. Model Performance</a>\n",
    "\n",
    "<a href=#seven>7. Model Explanations</a>"
   ]
  },
  {
   "cell_type": "markdown",
   "id": "2381be7d",
   "metadata": {},
   "source": [
    " <a id=\"one\"></a>\n",
    "## 1. Importing Packages\n",
    "<a href=#cont>Back to Table of Contents</a>\n",
    "\n",
    "---\n",
    "    \n",
    "| ⚡ Description: Importing Packages ⚡ |\n",
    "| :--------------------------- |\n",
    "| In this section you are required to import, and briefly discuss, the libraries that will be used throughout your analysis and modelling. |\n",
    "\n",
    "---"
   ]
  },
  {
   "cell_type": "code",
   "execution_count": 1,
   "id": "5df7c3db",
   "metadata": {},
   "outputs": [],
   "source": [
    "from comet_ml import Experiment\n",
    "\n",
    "import numpy as np\n",
    "import pandas as pd\n",
    "import matplotlib.pyplot as plt\n",
    "import string\n",
    "from wordcloud import WordCloud\n",
    "\n",
    "from sklearn.model_selection import train_test_split, GridSearchCV\n",
    "from sklearn.preprocessing import StandardScaler\n",
    "from sklearn.metrics import f1_score, precision_score, log_loss, recall_score, confusion_matrix\\\n",
    "\n",
    "from sklearn.linear_model import LogisticRegression\n",
    "from sklearn.ensemble import AdaBoostClassifier\n",
    "from sklearn.ensemble import RandomForestClassifier\n",
    "from sklearn.naive_bayes import GaussianNB\n",
    "from sklearn.naive_bayes import MultinomialNB\n",
    "from sklearn.tree import DecisionTreeClassifier\n",
    "from sklearn.neighbors import KNeighborsClassifier\n",
    "\n",
    "from nltk.tokenize import word_tokenize, TreebankWordTokenizer\n",
    "from nltk import SnowballStemmer, PorterStemmer, LancasterStemmer\n",
    "from nltk.stem import WordNetLemmatizer\n",
    "from nltk.corpus import stopwords\n",
    "from nltk.util import ngrams\n",
    "from sklearn.feature_extraction.text import CountVectorizer\n",
    "\n",
    "from tensorflow.keras.datasets import mnist\n",
    "from tensorflow.keras.layers import Dense\n",
    "from tensorflow.keras.models import Sequential\n",
    "from matplotlib import pyplot as plt\n",
    "from random import randint\n",
    "from tensorflow.keras.utils import to_categorical\n",
    "\n",
    "from sklearn.utils import resample"
   ]
  },
  {
   "cell_type": "markdown",
   "id": "534cb73f",
   "metadata": {},
   "source": [
    "<a id=\"two\"></a>\n",
    "## 2. Loading the Data\n",
    "<a class=\"anchor\" id=\"1.1\"></a>\n",
    "<a href=#cont>Back to Table of Contents</a>\n",
    "\n",
    "---\n",
    "    \n",
    "| ⚡ Description: Loading the data ⚡ |\n",
    "| :--------------------------- |\n",
    "| In this section you are required to load the data from the `train.csv` file into a DataFrame. |\n",
    "\n",
    "---"
   ]
  },
  {
   "cell_type": "code",
   "execution_count": 2,
   "id": "3ab285c5",
   "metadata": {},
   "outputs": [
    {
     "data": {
      "text/html": [
       "<div>\n",
       "<style scoped>\n",
       "    .dataframe tbody tr th:only-of-type {\n",
       "        vertical-align: middle;\n",
       "    }\n",
       "\n",
       "    .dataframe tbody tr th {\n",
       "        vertical-align: top;\n",
       "    }\n",
       "\n",
       "    .dataframe thead th {\n",
       "        text-align: right;\n",
       "    }\n",
       "</style>\n",
       "<table border=\"1\" class=\"dataframe\">\n",
       "  <thead>\n",
       "    <tr style=\"text-align: right;\">\n",
       "      <th></th>\n",
       "      <th>message</th>\n",
       "      <th>tweetid</th>\n",
       "    </tr>\n",
       "  </thead>\n",
       "  <tbody>\n",
       "    <tr>\n",
       "      <th>0</th>\n",
       "      <td>Europe will now be looking to China to make su...</td>\n",
       "      <td>169760</td>\n",
       "    </tr>\n",
       "    <tr>\n",
       "      <th>1</th>\n",
       "      <td>Combine this with the polling of staffers re c...</td>\n",
       "      <td>35326</td>\n",
       "    </tr>\n",
       "    <tr>\n",
       "      <th>2</th>\n",
       "      <td>The scary, unimpeachable evidence that climate...</td>\n",
       "      <td>224985</td>\n",
       "    </tr>\n",
       "    <tr>\n",
       "      <th>3</th>\n",
       "      <td>@Karoli @morgfair @OsborneInk @dailykos \\nPuti...</td>\n",
       "      <td>476263</td>\n",
       "    </tr>\n",
       "    <tr>\n",
       "      <th>4</th>\n",
       "      <td>RT @FakeWillMoore: 'Female orgasms cause globa...</td>\n",
       "      <td>872928</td>\n",
       "    </tr>\n",
       "  </tbody>\n",
       "</table>\n",
       "</div>"
      ],
      "text/plain": [
       "                                             message  tweetid\n",
       "0  Europe will now be looking to China to make su...   169760\n",
       "1  Combine this with the polling of staffers re c...    35326\n",
       "2  The scary, unimpeachable evidence that climate...   224985\n",
       "3  @Karoli @morgfair @OsborneInk @dailykos \\nPuti...   476263\n",
       "4  RT @FakeWillMoore: 'Female orgasms cause globa...   872928"
      ]
     },
     "execution_count": 2,
     "metadata": {},
     "output_type": "execute_result"
    }
   ],
   "source": [
    "df = pd.read_csv(\"train.csv\")\n",
    "df_test = pd.read_csv(\"test.csv\")\n",
    "df_test.head()"
   ]
  },
  {
   "cell_type": "markdown",
   "id": "bd7290a3",
   "metadata": {},
   "source": [
    "<a id=\"three\"></a>\n",
    "## 3. Exploratory Data Analysis (EDA)\n",
    "<a class=\"anchor\" id=\"1.1\"></a>\n",
    "<a href=#cont>Back to Table of Contents</a>\n",
    "\n",
    "---\n",
    "    \n",
    "| ⚡ Description: Exploratory data analysis ⚡ |\n",
    "| :--------------------------- |\n",
    "| In this section, you are required to perform an in-depth analysis of all the variables in the DataFrame. |\n",
    "\n"
   ]
  },
  {
   "cell_type": "markdown",
   "id": "baf0a2c8",
   "metadata": {},
   "source": [
    "Here we use various methods to take an in-depth look at our dataframe. These methods include:\n",
    "<ul>\n",
    "<li>isnull()</li>\n",
    "<li>info()</li>\n",
    "<li>shape</li>\n",
    "<li>WordCloud()</li>\n",
    "\n",
    "</ul>"
   ]
  },
  {
   "cell_type": "markdown",
   "id": "5d00e4ec",
   "metadata": {},
   "source": [
    "#### isnull()\n",
    "\n",
    "Here we determine whether of not there are null values in our dataframe"
   ]
  },
  {
   "cell_type": "code",
   "execution_count": 3,
   "id": "47298c1f",
   "metadata": {},
   "outputs": [
    {
     "data": {
      "text/plain": [
       "sentiment    0\n",
       "message      0\n",
       "tweetid      0\n",
       "dtype: int64"
      ]
     },
     "execution_count": 3,
     "metadata": {},
     "output_type": "execute_result"
    }
   ],
   "source": [
    "df.isnull().sum()"
   ]
  },
  {
   "cell_type": "markdown",
   "id": "74cb5535",
   "metadata": {},
   "source": [
    "#### info()\n",
    "\n",
    "To determine the type of data in the dataframe, we call the .info() method on the dataframe."
   ]
  },
  {
   "cell_type": "code",
   "execution_count": 4,
   "id": "03bb48d7",
   "metadata": {},
   "outputs": [
    {
     "name": "stdout",
     "output_type": "stream",
     "text": [
      "<class 'pandas.core.frame.DataFrame'>\n",
      "RangeIndex: 15819 entries, 0 to 15818\n",
      "Data columns (total 3 columns):\n",
      " #   Column     Non-Null Count  Dtype \n",
      "---  ------     --------------  ----- \n",
      " 0   sentiment  15819 non-null  int64 \n",
      " 1   message    15819 non-null  object\n",
      " 2   tweetid    15819 non-null  int64 \n",
      "dtypes: int64(2), object(1)\n",
      "memory usage: 370.9+ KB\n"
     ]
    }
   ],
   "source": [
    "df.info()"
   ]
  },
  {
   "cell_type": "markdown",
   "id": "10699c04",
   "metadata": {},
   "source": [
    "#### Shape\n",
    "\n",
    "To determine the shape of the dataframe, we call the shape attribut on the dataframe."
   ]
  },
  {
   "cell_type": "code",
   "execution_count": 5,
   "id": "5c940f4f",
   "metadata": {},
   "outputs": [
    {
     "data": {
      "text/plain": [
       "(15819, 3)"
      ]
     },
     "execution_count": 5,
     "metadata": {},
     "output_type": "execute_result"
    }
   ],
   "source": [
    "df.shape"
   ]
  },
  {
   "cell_type": "markdown",
   "id": "02e4e734",
   "metadata": {},
   "source": [
    "#### WordCloud\n",
    "\n",
    "A word cloud is important to visualize the most common words in a column of interest."
   ]
  },
  {
   "cell_type": "code",
   "execution_count": 6,
   "id": "e5aaa13d",
   "metadata": {},
   "outputs": [
    {
     "data": {
      "text/plain": [
       "<wordcloud.wordcloud.WordCloud at 0x1fec27b1670>"
      ]
     },
     "execution_count": 6,
     "metadata": {},
     "output_type": "execute_result"
    },
    {
     "data": {
      "image/png": "[encoded data removed]",
      "text/plain": [
       "<Figure size 720x720 with 1 Axes>"
      ]
     },
     "metadata": {
      "needs_background": "light"
     },
     "output_type": "display_data"
    }
   ],
   "source": [
    "#Graphical EDA (wordcloud)\n",
    "def word_cloud (df, column_name):\n",
    "    wc = WordCloud()\n",
    "    text = df[column_name].values\n",
    "    msg_cloud = wc.generate(str(text))\n",
    "    \n",
    "    #plot wordcloud\n",
    "    fig,ax = plt.subplots(figsize=(10,10))\n",
    "    ax.plot\n",
    "    plt.imshow(msg_cloud)\n",
    "    plt.axis('off')\n",
    "    plt.show\n",
    "    \n",
    "    return wc\n",
    "\n",
    "word_cloud(df, 'message')"
   ]
  },
  {
   "cell_type": "markdown",
   "id": "63a5612f",
   "metadata": {},
   "source": [
    "#### Balanced/Imbalanced Data\n",
    "\n",
    "A histogram of the unique elenment the target column (sentiments) is important to visualize the level of balance/imbalance of the data. In a situation where the data is highly imbalanced, tweaking becomes necessary to balance the data. "
   ]
  },
  {
   "cell_type": "code",
   "execution_count": 7,
   "id": "38840ca7",
   "metadata": {},
   "outputs": [
    {
     "name": "stdout",
     "output_type": "stream",
     "text": [
      "[1, 2, 0, -1]\n"
     ]
    },
    {
     "data": {
      "image/png": "[encoded data removed]",
      "text/plain": [
       "<Figure size 432x288 with 1 Axes>"
      ]
     },
     "metadata": {
      "needs_background": "light"
     },
     "output_type": "display_data"
    }
   ],
   "source": [
    "sentiment_labels = list(df.sentiment.unique())\n",
    "print(sentiment_labels)\n",
    "\n",
    "df['sentiment'].value_counts().plot(kind = 'bar')\n",
    "plt.ylabel(\"# of observations\")\n",
    "plt.xlabel(\"sentiments\")\n",
    "plt.show()"
   ]
  },
  {
   "cell_type": "markdown",
   "id": "e8c11c12",
   "metadata": {},
   "source": [
    "From the above histogram, is clear that the data is highly imbalanced. The data will be balanced in the Data Engineering section using the CountVectorizer."
   ]
  },
  {
   "cell_type": "markdown",
   "id": "148df2fc",
   "metadata": {},
   "source": [
    "<a id=\"four\"></a>\n",
    "## 4. Data Engineering\n",
    "<a class=\"anchor\" id=\"1.1\"></a>\n",
    "<a href=#cont>Back to Table of Contents</a>\n",
    "\n",
    "---\n",
    "    \n",
    "| ⚡ Description: Data engineering ⚡ |\n",
    "| :--------------------------- |\n",
    "| In this section you are required to: clean the dataset, and possibly create new features - as identified in the EDA phase. |\n",
    "\n",
    "---"
   ]
  },
  {
   "cell_type": "markdown",
   "id": "6947593d",
   "metadata": {},
   "source": [
    "Our data is imbalanced label-wise, and balaning the data may improve the predictive performance of our model. We balance the data by first spliting the data into four groups based on the sentiments, then we upscale and downscale the group where necessary. "
   ]
  },
  {
   "cell_type": "code",
   "execution_count": 8,
   "id": "96bc260f",
   "metadata": {},
   "outputs": [],
   "source": [
    "all_msg = df.copy()"
   ]
  },
  {
   "cell_type": "code",
   "execution_count": 9,
   "id": "72de8e7e",
   "metadata": {},
   "outputs": [
    {
     "name": "stdout",
     "output_type": "stream",
     "text": [
      " 0    4265\n",
      " 1    4265\n",
      " 2    4265\n",
      "-1    4265\n",
      "Name: sentiment, dtype: int64\n"
     ]
    }
   ],
   "source": [
    "#seperate the sentiments\n",
    "df_pro= all_msg[all_msg['sentiment']==1]\n",
    "df_factual= all_msg[all_msg['sentiment']==2]\n",
    "df_neutral= all_msg[all_msg['sentiment']==0]\n",
    "df_anti= all_msg[all_msg['sentiment']== -1]\n",
    "\n",
    "#upsample minority class seperately\n",
    "df_anti_upsampled= resample(df_anti,\n",
    "                            replace=True,\n",
    "                            n_samples=4265,\n",
    "                            random_state=42\n",
    "                            )\n",
    "df_neutral_upsampled= resample(df_neutral,\n",
    "                            replace=True,\n",
    "                            n_samples=4265,\n",
    "                            random_state=42\n",
    "                            )\n",
    "df_factual_upsampled= resample(df_factual,\n",
    "                            replace=True,\n",
    "                            n_samples=4265,\n",
    "                            random_state=42\n",
    "                            )\n",
    "\n",
    "#downsample majority class\n",
    "df_pro_downsampled = resample(df_pro,\n",
    "                              replace=False,\n",
    "                              n_samples= 4265,\n",
    "                              random_state=42\n",
    "                             )\n",
    "\n",
    "#combine the dataframes\n",
    "all_msg_2= pd.concat([df_pro_downsampled, df_factual_upsampled, df_neutral_upsampled, df_anti_upsampled])\n",
    "print (all_msg_2['sentiment'].value_counts())"
   ]
  },
  {
   "cell_type": "code",
   "execution_count": 10,
   "id": "d4bd2765",
   "metadata": {},
   "outputs": [
    {
     "name": "stdout",
     "output_type": "stream",
     "text": [
      "(1296, 3)\n",
      "(2353, 3)\n",
      "(8530, 3)\n",
      "(3640, 3)\n"
     ]
    }
   ],
   "source": [
    "print(df_anti.shape)\n",
    "print(df_neutral.shape)\n",
    "print(df_pro.shape)\n",
    "print(df_factual.shape)"
   ]
  },
  {
   "cell_type": "markdown",
   "id": "75d8f207",
   "metadata": {},
   "source": [
    "The newly created groups include anti(-1), neutral(0), pro(1), and factual(2); these groups contains 1296, 2353, 8530, and 3640 observations, respectively. The anti, neutral, and factual groups were upscaled to 4265 observations by resampling with replacement, while the pro group was downscaled by resampling without replacement.\n",
    "\n",
    "It is **important to note** that the model that was train with the imbalanced data outperformed the model that was trained with the balanced data; hence, we proceeded with the model that was trained with the imbalaced data. The observation could be as a result of the relatively smaller portion of observation in some of the lower classes (pro and neutral) as well as the small dataset (less that 16000 observations)."
   ]
  },
  {
   "cell_type": "markdown",
   "id": "49d97850",
   "metadata": {},
   "source": [
    "In order for our Machine Learning model to determine the sentiment of a user as regards global warming, the model has to analyze a piece of text—in our case, tweets—that was written by a user. Machine learning models can not handel categorical data without preprocessing of the data. In our case, we use the CountVectorizer to preprocess the column of data that will be fed to the Machine Learning model.\n",
    "\n",
    "The CountVectorizer is used to transform column of text into a vector on the basis of the frequency (count) of each word that occurs in the entire column of text\n",
    "\n",
    "Before we apply the CountVectorizer, it is important to clean up the column of text. The clean up precess include the following steps:\n",
    "<ul>\n",
    "    <li>Replace all URLs with 'url-web'</li>\n",
    "    <li>Set all elements in the column of test to lower case</li>\n",
    "    <li>Remove punctuations</li>\n",
    "</ul>\n"
   ]
  },
  {
   "cell_type": "code",
   "execution_count": 19,
   "id": "ad8cd5f2",
   "metadata": {},
   "outputs": [],
   "source": [
    "#Replace all URLs with 'url-web'\n",
    "\n",
    "pattern_url = r'http[s]?://(?:[A-Za-z]|[0-9]|[$-_@.&+]|[!*\\(\\),]|(?:%[0-9A-Fa-f][0-9A-Fa-f]))+'\n",
    "subs_url = r'url-web'\n",
    "all_msg['message'] = all_msg['message'].replace(to_replace = pattern_url, value = subs_url, regex = True)"
   ]
  },
  {
   "cell_type": "code",
   "execution_count": 20,
   "id": "3a0c239b",
   "metadata": {},
   "outputs": [],
   "source": [
    "#Define fuction to remove punctuation\n",
    "\n",
    "def remove_punctuation(post):\n",
    "    return ''.join([l for l in post if l not in string.punctuation])"
   ]
  },
  {
   "cell_type": "code",
   "execution_count": 21,
   "id": "7748f5f9",
   "metadata": {},
   "outputs": [],
   "source": [
    "all_msg['message'] = all_msg['message'].str.lower() #set text to lower case\n",
    "all_msg['message'] = all_msg['message'].apply(remove_punctuation) #Remove puctuations"
   ]
  },
  {
   "cell_type": "code",
   "execution_count": 22,
   "id": "51c9eaed",
   "metadata": {},
   "outputs": [],
   "source": [
    "betterVect = CountVectorizer(min_df=2, \n",
    "                             max_df=0.5, \n",
    "                             ngram_range=(1, 2))\n",
    "\n",
    "#The model performed better without removing stopwords"
   ]
  },
  {
   "cell_type": "code",
   "execution_count": 23,
   "id": "05b35db4",
   "metadata": {},
   "outputs": [],
   "source": [
    "df_test['message'] = df_test['message'].replace(to_replace = pattern_url, value = subs_url, regex = True)\n",
    "df_test['message'] = df_test['message'].str.lower()\n",
    "df_test['message'] = df_test['message'].apply(remove_punctuation)"
   ]
  },
  {
   "cell_type": "code",
   "execution_count": 24,
   "id": "d571b3e8",
   "metadata": {},
   "outputs": [],
   "source": [
    "X_train = betterVect.fit_transform(all_msg['message'])\n",
    "X_test = betterVect.transform(df_test['message'])"
   ]
  },
  {
   "cell_type": "code",
   "execution_count": 25,
   "id": "c4de0ae2",
   "metadata": {},
   "outputs": [],
   "source": [
    "y_train = all_msg.sentiment"
   ]
  },
  {
   "cell_type": "markdown",
   "id": "6bd2d2b4",
   "metadata": {},
   "source": [
    "<a id=\"five\"></a>\n",
    "## 5. Modelling\n",
    "<a class=\"anchor\" id=\"1.1\"></a>\n",
    "<a href=#cont>Back to Table of Contents</a>\n",
    "\n",
    "---\n",
    "    \n",
    "| ⚡ Description: Modelling ⚡ |\n",
    "| :--------------------------- |\n",
    "| In this section, you are required to create one or more classification models that is/are able to classify whether or not a person believes in climate change, based on their novel tweet data.\n",
    "\n",
    "---"
   ]
  },
  {
   "cell_type": "code",
   "execution_count": 26,
   "id": "fe1df973",
   "metadata": {},
   "outputs": [
    {
     "name": "stderr",
     "output_type": "stream",
     "text": [
      "C:\\Users\\shola\\anaconda3\\lib\\site-packages\\sklearn\\linear_model\\_logistic.py:763: ConvergenceWarning: lbfgs failed to converge (status=1):\n",
      "STOP: TOTAL NO. of ITERATIONS REACHED LIMIT.\n",
      "\n",
      "Increase the number of iterations (max_iter) or scale the data as shown in:\n",
      "    https://scikit-learn.org/stable/modules/preprocessing.html\n",
      "Please also refer to the documentation for alternative solver options:\n",
      "    https://scikit-learn.org/stable/modules/linear_model.html#logistic-regression\n",
      "  n_iter_i = _check_optimize_result(\n"
     ]
    },
    {
     "data": {
      "text/plain": [
       "0.9935520576521905"
      ]
     },
     "execution_count": 26,
     "metadata": {},
     "output_type": "execute_result"
    }
   ],
   "source": [
    "logreg = LogisticRegression()\n",
    "logreg.fit(X_train, y_train)\n",
    "logreg.score(X_train, y_train)"
   ]
  },
  {
   "cell_type": "code",
   "execution_count": 231,
   "id": "a030cc2c",
   "metadata": {},
   "outputs": [
    {
     "data": {
      "text/plain": [
       "0.6475124849864088"
      ]
     },
     "execution_count": 231,
     "metadata": {},
     "output_type": "execute_result"
    }
   ],
   "source": [
    "AdBoost = AdaBoostClassifier()\n",
    "AdBoost.fit(X_train, y_train)\n",
    "AdBoost.score(X_train, y_train)"
   ]
  },
  {
   "cell_type": "code",
   "execution_count": 232,
   "id": "87a5a805",
   "metadata": {},
   "outputs": [
    {
     "data": {
      "text/plain": [
       "0.9982299766104052"
      ]
     },
     "execution_count": 232,
     "metadata": {},
     "output_type": "execute_result"
    }
   ],
   "source": [
    "RF = RandomForestClassifier()\n",
    "RF.fit(X_train, y_train)\n",
    "RF.score(X_train, y_train)"
   ]
  },
  {
   "cell_type": "code",
   "execution_count": 233,
   "id": "cf1d535b",
   "metadata": {},
   "outputs": [
    {
     "data": {
      "text/plain": [
       "0.9654213287818446"
      ]
     },
     "execution_count": 233,
     "metadata": {},
     "output_type": "execute_result"
    }
   ],
   "source": [
    "GNB = GaussianNB()\n",
    "GNB.fit(X_train.toarray() , y_train)\n",
    "GNB.score(X_train.toarray(), y_train)"
   ]
  },
  {
   "cell_type": "code",
   "execution_count": 234,
   "id": "1ccff32f",
   "metadata": {},
   "outputs": [
    {
     "data": {
      "text/plain": [
       "0.8719261647386055"
      ]
     },
     "execution_count": 234,
     "metadata": {},
     "output_type": "execute_result"
    }
   ],
   "source": [
    "MNB = MultinomialNB()\n",
    "MNB.fit(X_train, y_train)\n",
    "#y_pred = MNB.predict(X_val)\n",
    "MNB.score(X_train, y_train)\n",
    "\n",
    "# Calculate the log loss\n",
    "#print(\"The log loss error for our model is: \", log_loss(y_val, y_pred))"
   ]
  },
  {
   "cell_type": "markdown",
   "id": "66cd5249",
   "metadata": {},
   "source": [
    "<a id=\"six\"></a>\n",
    "## 6. Model Performance\n",
    "<a class=\"anchor\" id=\"1.1\"></a>\n",
    "<a href=#cont>Back to Table of Contents</a>\n",
    "\n",
    "---\n",
    "    \n",
    "| ⚡ Description: Model performance ⚡ |\n",
    "| :--------------------------- |\n",
    "| In this section you are required to compare the relative performance of the various trained ML models on a holdout dataset and comment on what model is the best and why. |\n",
    "\n",
    "---"
   ]
  },
  {
   "cell_type": "markdown",
   "id": "430ec796",
   "metadata": {},
   "source": [
    "<li>Classifiation Report</li>\n",
    "<li>Confusion Matrix</li>\n",
    "\n",
    "We'll have to split the data to train and validation set to obtain y_val for the confusion matrix"
   ]
  },
  {
   "cell_type": "code",
   "execution_count": 37,
   "id": "0934c38d",
   "metadata": {},
   "outputs": [
    {
     "name": "stdout",
     "output_type": "stream",
     "text": [
      "\n",
      "Results\n",
      "Confusion matrix \n",
      " [[ 120   53   74   15]\n",
      " [  27  237  145   52]\n",
      " [  41  161 1299  209]\n",
      " [   6   17   82  626]]\n"
     ]
    }
   ],
   "source": [
    "print(\"\\nResults\\nConfusion matrix \\n {}\".format(\n",
    "    confusion_matrix(y_val, y_pred)))"
   ]
  },
  {
   "cell_type": "code",
   "execution_count": 243,
   "id": "fc798f51",
   "metadata": {},
   "outputs": [],
   "source": [
    "predictions = logreg.predict(X_test)\n",
    "\n",
    "\n",
    "df_CSV = pd.DataFrame({\"tweetid\": df_test['tweetid'].values,\n",
    "                   \"sentiment\": predictions,\n",
    "                  })\n",
    "\n",
    "df_CSV.to_csv(\"Team6_logreg_ProT_imBal.csv\", index=False)"
   ]
  },
  {
   "cell_type": "markdown",
   "id": "f0bc5efe",
   "metadata": {},
   "source": [
    "<a id=\"seven\"></a>\n",
    "## 7. Model Explanations\n",
    "<a class=\"anchor\" id=\"1.1\"></a>\n",
    "<a href=#cont>Back to Table of Contents</a>\n",
    "\n",
    "---\n",
    "    \n",
    "| ⚡ Description: Model explanation ⚡ |\n",
    "| :--------------------------- |\n",
    "| In this section, you are required to discuss how the best performing model works in a simple way so that both technical and non-technical stakeholders can grasp the intuition behind the model's inner workings. |\n",
    "\n",
    "---"
   ]
  },
  {
   "cell_type": "code",
   "execution_count": null,
   "id": "65930a1e",
   "metadata": {},
   "outputs": [],
   "source": []
  },
  {
   "cell_type": "code",
   "execution_count": 63,
   "id": "cc827343",
   "metadata": {},
   "outputs": [
    {
     "name": "stderr",
     "output_type": "stream",
     "text": [
      "COMET WARNING: Comet has disabled auto-logging functionality as it has been imported after the following ML modules: sklearn. Metrics and hyperparameters can still be logged using comet_ml.log_metrics() and comet_ml.log_parameters()\n",
      "COMET WARNING: As you are running in a Jupyter environment, you will need to call `experiment.end()` when finished to ensure all metrics and code are logged before exiting.\n",
      "COMET INFO: Experiment is live on comet.ml https://www.comet.ml/sholaog/general/044d51073dd440d79b551de5946ca78c\n",
      "\n"
     ]
    }
   ],
   "source": [
    "# Setting the API key (saved as environment variable)\n",
    "\n",
    "# Create an experiment with your api key\n",
    "experiment = Experiment(\n",
    "    api_key=\"CiIdM6vK7NzhmF0W3SwXaz3RE\",\n",
    "    project_name=\"general\",\n",
    "    workspace=\"sholaog\",\n",
    ")"
   ]
  },
  {
   "cell_type": "code",
   "execution_count": 64,
   "id": "c84e07ad",
   "metadata": {},
   "outputs": [],
   "source": [
    "# Saving each metric to add to a dictionary for logging\n",
    "\n",
    "cm = confusion_matrix(y_val, y_pred)\n",
    "#f1 = f1_score(y_val, y_pred)\n",
    "#precision = precision_score(y_val, y_pred)\n",
    "#recall = recall_score(y_val, y_pred)"
   ]
  },
  {
   "cell_type": "code",
   "execution_count": 65,
   "id": "4fe2fa62",
   "metadata": {},
   "outputs": [],
   "source": [
    "# Create dictionaries for the data we want to log\n",
    "\n",
    "params = {\"model_type\": \"MultinomialNB\",\n",
    "          }\n",
    "#metrics = {\"f1\": f1,\n",
    "#           \"recall\": recall,\n",
    "#           \"precision\": precision\n",
    "#           }\n",
    "\n",
    "metrics = {\"Confussion Matrix\": cm          }"
   ]
  },
  {
   "cell_type": "code",
   "execution_count": 66,
   "id": "18a86b54",
   "metadata": {},
   "outputs": [
    {
     "name": "stderr",
     "output_type": "stream",
     "text": [
      "COMET WARNING: Cannot safely convert array([[ 120,   53,   74,   15],\n",
      "       [  27,  237,  145,   52],\n",
      "       [  41,  161, 1299,  209],\n",
      "       [   6,   17,   82,  626]], dtype=int64) object to a scalar value, using its string representation for logging. Resulting string might be invalid\n",
      "COMET ERROR: Attempt to log empty confusion matrix; ignoring\n"
     ]
    }
   ],
   "source": [
    "# Log our parameters and results\n",
    "experiment.log_parameters(params)\n",
    "experiment.log_metrics(metrics)\n",
    "experiment.log_confusion_matrix()"
   ]
  },
  {
   "cell_type": "code",
   "execution_count": 67,
   "id": "afd6e873",
   "metadata": {},
   "outputs": [
    {
     "name": "stderr",
     "output_type": "stream",
     "text": [
      "COMET INFO: ---------------------------\n",
      "COMET INFO: Comet.ml Experiment Summary\n",
      "COMET INFO: ---------------------------\n",
      "COMET INFO:   Data:\n",
      "COMET INFO:     display_summary_level : 1\n",
      "COMET INFO:     url                   : https://www.comet.ml/sholaog/general/044d51073dd440d79b551de5946ca78c\n",
      "COMET INFO:   Metrics:\n",
      "COMET INFO:     Confussion Matrix : [[ 120   53   74   15]\n",
      " [  27  237  145   52]\n",
      " [  41  161 1299  209]\n",
      " [   6   17   82  626]]\n",
      "COMET INFO:   Parameters:\n",
      "COMET INFO:     model_type : MultinomialNB\n",
      "COMET INFO:   Uploads:\n",
      "COMET INFO:     conda-environment-definition : 1\n",
      "COMET INFO:     conda-info                   : 1\n",
      "COMET INFO:     conda-specification          : 1\n",
      "COMET INFO:     environment details          : 1\n",
      "COMET INFO:     filename                     : 1\n",
      "COMET INFO:     git metadata                 : 1\n",
      "COMET INFO:     installed packages           : 1\n",
      "COMET INFO:     notebook                     : 1\n",
      "COMET INFO:     source_code                  : 1\n",
      "COMET INFO: ---------------------------\n",
      "COMET WARNING: Comet has disabled auto-logging functionality as it has been imported after the following ML modules: sklearn. Metrics and hyperparameters can still be logged using comet_ml.log_metrics() and comet_ml.log_parameters()\n",
      "COMET INFO: Uploading 1 metrics, params and output messages\n"
     ]
    }
   ],
   "source": [
    "experiment.end()"
   ]
  },
  {
   "cell_type": "code",
   "execution_count": 68,
   "id": "554f46ea",
   "metadata": {},
   "outputs": [
    {
     "data": {
      "text/html": [
       "\n",
       "        <iframe\n",
       "            width=\"100%\"\n",
       "            height=\"800px\"\n",
       "            src=\"https://www.comet.ml/sholaog/general/044d51073dd440d79b551de5946ca78c\"\n",
       "            frameborder=\"0\"\n",
       "            allowfullscreen\n",
       "        ></iframe>\n",
       "        "
      ],
      "text/plain": [
       "<IPython.lib.display.IFrame at 0x1a46271f820>"
      ]
     },
     "metadata": {},
     "output_type": "display_data"
    }
   ],
   "source": [
    "experiment.display()"
   ]
  },
  {
   "cell_type": "code",
   "execution_count": null,
   "id": "74eb9853",
   "metadata": {},
   "outputs": [],
   "source": []
  }
 ],
 "metadata": {
  "kernelspec": {
   "display_name": "Python 3",
   "language": "python",
   "name": "python3"
  },
  "language_info": {
   "codemirror_mode": {
    "name": "ipython",
    "version": 3
   },
   "file_extension": ".py",
   "mimetype": "text/x-python",
   "name": "python",
   "nbconvert_exporter": "python",
   "pygments_lexer": "ipython3",
   "version": "3.8.8"
  }
 },
 "nbformat": 4,
 "nbformat_minor": 5
}
